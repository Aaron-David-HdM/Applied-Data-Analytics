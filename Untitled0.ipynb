{
  "nbformat": 4,
  "nbformat_minor": 0,
  "metadata": {
    "colab": {
      "name": "Untitled0.ipynb",
      "provenance": [],
      "collapsed_sections": []
    },
    "kernelspec": {
      "name": "python3",
      "display_name": "Python 3"
    },
    "language_info": {
      "name": "python"
    }
  },
  "cells": [
    {
      "cell_type": "code",
      "metadata": {
        "id": "NfMwrAwz6Kqd",
        "colab": {
          "base_uri": "https://localhost:8080/"
        },
        "outputId": "3ee2adae-fde3-4048-80b7-31c0b86de48e"
      },
      "source": [
        "import pandas as pd\n",
        "\n",
        "print(\"Ich bin ein Test!\")"
      ],
      "execution_count": 2,
      "outputs": [
        {
          "output_type": "stream",
          "name": "stdout",
          "text": [
            "Ich bin ein Test!\n"
          ]
        }
      ]
    }
  ]
}