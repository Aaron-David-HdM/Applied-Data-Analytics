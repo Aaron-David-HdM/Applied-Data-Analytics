{
  "nbformat": 4,
  "nbformat_minor": 0,
  "metadata": {
    "colab": {
      "name": "Untitled0.ipynb",
      "provenance": [],
      "collapsed_sections": [],
      "include_colab_link": true
    },
    "kernelspec": {
      "name": "python3",
      "display_name": "Python 3"
    },
    "language_info": {
      "name": "python"
    }
  },
  "cells": [
    {
      "cell_type": "markdown",
      "metadata": {
        "id": "view-in-github",
        "colab_type": "text"
      },
      "source": [
        "<a href=\"https://colab.research.google.com/github/Aaron-David-HdM/Applied-Data-Analytics/blob/main/UseCase_1/Datenimport_und_Bereinigung.ipynb\" target=\"_parent\"><img src=\"https://colab.research.google.com/assets/colab-badge.svg\" alt=\"Open In Colab\"/></a>"
      ]
    },
    {
      "cell_type": "markdown",
      "metadata": {
        "id": "WwtRfpGsz4ku"
      },
      "source": [
        "**Zeigt Inhalte des gewählten Ordners**"
      ]
    },
    {
      "cell_type": "code",
      "metadata": {
        "id": "3gC3SBsLL2AF",
        "colab": {
          "base_uri": "https://localhost:8080/"
        },
        "outputId": "5b499faf-05ae-45f4-e511-ffd905accc6a"
      },
      "source": [
        "ls"
      ],
      "execution_count": null,
      "outputs": [
        {
          "output_type": "stream",
          "name": "stdout",
          "text": [
            "\u001b[0m\u001b[01;34mApplied-Data-Analytics\u001b[0m/  \u001b[01;34msample_data\u001b[0m/\n"
          ]
        }
      ]
    },
    {
      "cell_type": "markdown",
      "metadata": {
        "id": "YcLkXr3AyylG"
      },
      "source": [
        "**Verknüpfung zum GitHub-Repository**"
      ]
    },
    {
      "cell_type": "code",
      "metadata": {
        "id": "NfMwrAwz6Kqd",
        "colab": {
          "base_uri": "https://localhost:8080/"
        },
        "outputId": "a7af7518-0f9f-4b95-d901-b9c93df90877"
      },
      "source": [
        "#!git clone https://github.com/Aaron-David-HdM/Applied-Data-Analytics.git"
      ],
      "execution_count": 282,
      "outputs": [
        {
          "output_type": "stream",
          "name": "stdout",
          "text": [
            "fatal: not a git repository (or any of the parent directories): .git\n"
          ]
        }
      ]
    },
    {
      "cell_type": "markdown",
      "metadata": {
        "id": "vjtzzce-y8yB"
      },
      "source": [
        "**Wechselt zum lokalen Repository-Verzeichnis und holt Daten vom GitHub-Repo**"
      ]
    },
    {
      "cell_type": "code",
      "metadata": {
        "id": "33fll6GjqNHk"
      },
      "source": [
        "%cd /content/Applied-Data-Analytics/\n",
        "!git pull"
      ],
      "execution_count": null,
      "outputs": []
    },
    {
      "cell_type": "markdown",
      "metadata": {
        "id": "xoL7yaw30CyI"
      },
      "source": [
        "**Bibliotheken-Import, Wechsel zum lokalen Repository und lädt die CSV-Dateien.**"
      ]
    },
    {
      "cell_type": "code",
      "metadata": {
        "id": "VUsBYa3bLySL",
        "colab": {
          "base_uri": "https://localhost:8080/"
        },
        "outputId": "b0975af5-382b-46fe-f56b-c4c6b62c5a61"
      },
      "source": [
        "import pandas as pd\n",
        "import numpy as np\n",
        "from pandas.api.types import CategoricalDtype\n",
        "\n",
        "%cd /content/Applied-Data-Analytics/UseCase_1\n",
        "\n",
        "filepath_1 = 'Zielgruppenuebersicht_1_August_2021.csv' # Gesamtzahl der Nutzer,18-24 sowie 25-34 jährige Nutzer\n",
        "filepath_2 = 'Zielgruppenuebersicht_2_August_2021.csv' # 35-44,\t45-54 und 55-64 jährige Nutzer sowie Nutzer über 65 Jahren\n",
        "\n",
        "\n",
        "df_1 = pd.read_csv(filepath_1, decimal=',')\n",
        "df_2 = pd.read_csv(filepath_2, decimal=',')"
      ],
      "execution_count": 324,
      "outputs": [
        {
          "output_type": "stream",
          "name": "stdout",
          "text": [
            "/content/Applied-Data-Analytics/UseCase_1\n"
          ]
        }
      ]
    },
    {
      "cell_type": "markdown",
      "metadata": {
        "id": "DRly6FYfRHnB"
      },
      "source": [
        "**Daten Bereinigung**\n",
        "\n",
        "Google Analytics erlaubt nur die Verknüpfung von bis zu 4 verschiedene Segmenten bei der Erzeugung der Daten. Somit waren wir gezwungen, zwei Tabellen anzulegen und diese im Anschluss miteinander zu 'mergen'.\n"
      ]
    },
    {
      "cell_type": "markdown",
      "metadata": {
        "id": "ZLMnJu5wxzNE"
      },
      "source": [
        "**Löschen von NaN-Werten und der 'Zeitraum'-Column sowie dem Ersetzen der Punkte bei den Zahlenwerten**"
      ]
    },
    {
      "cell_type": "code",
      "metadata": {
        "id": "jJo6k1ZRPMej"
      },
      "source": [
        "new_df_1 = df_1.dropna()\n",
        "new_df_1 = df_1.drop(columns=['Zeitraum'])\n",
        "new_df_1['Nutzer'] = new_df_1['Nutzer'].str.replace('.', '')\n",
        "\n",
        "new_df_2 = df_2.dropna()\n",
        "new_df_2 = df_2.drop(columns=['Zeitraum'])\n",
        "new_df_2['Nutzer'] = new_df_2['Nutzer'].str.replace('.', '')"
      ],
      "execution_count": null,
      "outputs": []
    },
    {
      "cell_type": "markdown",
      "metadata": {
        "id": "RdL_bioEyTmV"
      },
      "source": [
        "**Columns umbenannt und neu gruppiert.**"
      ]
    },
    {
      "cell_type": "code",
      "metadata": {
        "id": "c8H1BsozgIHT"
      },
      "source": [
        "new_df_1 = new_df_1.rename(columns={'Segment':'Altersgruppe', 'Index: Tag':'Tag'})\n",
        "new_df_1 = new_df_1.groupby(['Tag', 'Altersgruppe'])['Nutzer'].first().unstack()\n",
        "new_df_1.columns = ['Alle Nutzer', '18-24', '25-34']\n",
        "\n",
        "new_df_2 = new_df_2.rename(columns={'Segment':'Altersgruppe', 'Index: Tag':'Tag'})\n",
        "new_df_2 = new_df_2.groupby(['Tag', 'Altersgruppe'])['Nutzer'].first().unstack()\n",
        "new_df_2.columns = ['35-44', '45-54', '55-64', '65+']"
      ],
      "execution_count": 312,
      "outputs": []
    },
    {
      "cell_type": "markdown",
      "metadata": {
        "id": "LD0AhXqfycPi"
      },
      "source": [
        "**Nutzerzahlen zu Integern konvertiert.**"
      ]
    },
    {
      "cell_type": "code",
      "metadata": {
        "id": "HsB5r_3QWAnJ"
      },
      "source": [
        "new_df_1[['18-24', '25-34', 'Alle Nutzer']] = new_df_1[['18-24', '25-34', 'Alle Nutzer']].apply(np.int64)\n",
        "\n",
        "new_df_2[['35-44', '45-54', '55-64', '65+']] = new_df_2[['35-44', '45-54', '55-64', '65+']].apply(np.int64)"
      ],
      "execution_count": 315,
      "outputs": []
    },
    {
      "cell_type": "markdown",
      "metadata": {
        "id": "EljqHuc4ykO1"
      },
      "source": [
        "**Die zwei Dataframes zu einem Dataframe zusammengeführt.**"
      ]
    },
    {
      "cell_type": "code",
      "metadata": {
        "colab": {
          "base_uri": "https://localhost:8080/",
          "height": 1000
        },
        "id": "Sw4sXrfBdJDM",
        "outputId": "4a06571e-9918-416f-8bd8-68492a560897"
      },
      "source": [
        "df = new_df_1.merge(new_df_2, how='inner', left_index=True, right_index=True)\n",
        "df"
      ],
      "execution_count": 319,
      "outputs": [
        {
          "output_type": "execute_result",
          "data": {
            "text/html": [
              "<div>\n",
              "<style scoped>\n",
              "    .dataframe tbody tr th:only-of-type {\n",
              "        vertical-align: middle;\n",
              "    }\n",
              "\n",
              "    .dataframe tbody tr th {\n",
              "        vertical-align: top;\n",
              "    }\n",
              "\n",
              "    .dataframe thead th {\n",
              "        text-align: right;\n",
              "    }\n",
              "</style>\n",
              "<table border=\"1\" class=\"dataframe\">\n",
              "  <thead>\n",
              "    <tr style=\"text-align: right;\">\n",
              "      <th></th>\n",
              "      <th>Alle Nutzer</th>\n",
              "      <th>18-24</th>\n",
              "      <th>25-34</th>\n",
              "      <th>35-44</th>\n",
              "      <th>45-54</th>\n",
              "      <th>55-64</th>\n",
              "      <th>65+</th>\n",
              "    </tr>\n",
              "    <tr>\n",
              "      <th>Tag</th>\n",
              "      <th></th>\n",
              "      <th></th>\n",
              "      <th></th>\n",
              "      <th></th>\n",
              "      <th></th>\n",
              "      <th></th>\n",
              "      <th></th>\n",
              "    </tr>\n",
              "  </thead>\n",
              "  <tbody>\n",
              "    <tr>\n",
              "      <th>01.08.21</th>\n",
              "      <td>1420</td>\n",
              "      <td>144</td>\n",
              "      <td>177</td>\n",
              "      <td>96</td>\n",
              "      <td>50</td>\n",
              "      <td>45</td>\n",
              "      <td>23</td>\n",
              "    </tr>\n",
              "    <tr>\n",
              "      <th>02.08.21</th>\n",
              "      <td>2505</td>\n",
              "      <td>253</td>\n",
              "      <td>454</td>\n",
              "      <td>211</td>\n",
              "      <td>142</td>\n",
              "      <td>74</td>\n",
              "      <td>50</td>\n",
              "    </tr>\n",
              "    <tr>\n",
              "      <th>03.08.21</th>\n",
              "      <td>2545</td>\n",
              "      <td>279</td>\n",
              "      <td>397</td>\n",
              "      <td>201</td>\n",
              "      <td>127</td>\n",
              "      <td>69</td>\n",
              "      <td>61</td>\n",
              "    </tr>\n",
              "    <tr>\n",
              "      <th>04.08.21</th>\n",
              "      <td>2518</td>\n",
              "      <td>306</td>\n",
              "      <td>407</td>\n",
              "      <td>225</td>\n",
              "      <td>120</td>\n",
              "      <td>77</td>\n",
              "      <td>37</td>\n",
              "    </tr>\n",
              "    <tr>\n",
              "      <th>05.08.21</th>\n",
              "      <td>2502</td>\n",
              "      <td>243</td>\n",
              "      <td>392</td>\n",
              "      <td>232</td>\n",
              "      <td>140</td>\n",
              "      <td>66</td>\n",
              "      <td>52</td>\n",
              "    </tr>\n",
              "    <tr>\n",
              "      <th>06.08.21</th>\n",
              "      <td>2066</td>\n",
              "      <td>214</td>\n",
              "      <td>338</td>\n",
              "      <td>162</td>\n",
              "      <td>77</td>\n",
              "      <td>54</td>\n",
              "      <td>37</td>\n",
              "    </tr>\n",
              "    <tr>\n",
              "      <th>07.08.21</th>\n",
              "      <td>1284</td>\n",
              "      <td>130</td>\n",
              "      <td>139</td>\n",
              "      <td>84</td>\n",
              "      <td>38</td>\n",
              "      <td>44</td>\n",
              "      <td>22</td>\n",
              "    </tr>\n",
              "    <tr>\n",
              "      <th>08.08.21</th>\n",
              "      <td>1409</td>\n",
              "      <td>146</td>\n",
              "      <td>196</td>\n",
              "      <td>90</td>\n",
              "      <td>51</td>\n",
              "      <td>22</td>\n",
              "      <td>23</td>\n",
              "    </tr>\n",
              "    <tr>\n",
              "      <th>09.08.21</th>\n",
              "      <td>2309</td>\n",
              "      <td>256</td>\n",
              "      <td>387</td>\n",
              "      <td>186</td>\n",
              "      <td>131</td>\n",
              "      <td>46</td>\n",
              "      <td>58</td>\n",
              "    </tr>\n",
              "    <tr>\n",
              "      <th>10.08.21</th>\n",
              "      <td>2242</td>\n",
              "      <td>251</td>\n",
              "      <td>346</td>\n",
              "      <td>199</td>\n",
              "      <td>100</td>\n",
              "      <td>66</td>\n",
              "      <td>40</td>\n",
              "    </tr>\n",
              "    <tr>\n",
              "      <th>11.08.21</th>\n",
              "      <td>2099</td>\n",
              "      <td>236</td>\n",
              "      <td>315</td>\n",
              "      <td>172</td>\n",
              "      <td>89</td>\n",
              "      <td>52</td>\n",
              "      <td>27</td>\n",
              "    </tr>\n",
              "    <tr>\n",
              "      <th>12.08.21</th>\n",
              "      <td>2110</td>\n",
              "      <td>215</td>\n",
              "      <td>316</td>\n",
              "      <td>152</td>\n",
              "      <td>99</td>\n",
              "      <td>50</td>\n",
              "      <td>34</td>\n",
              "    </tr>\n",
              "    <tr>\n",
              "      <th>13.08.21</th>\n",
              "      <td>1808</td>\n",
              "      <td>171</td>\n",
              "      <td>259</td>\n",
              "      <td>118</td>\n",
              "      <td>80</td>\n",
              "      <td>51</td>\n",
              "      <td>28</td>\n",
              "    </tr>\n",
              "    <tr>\n",
              "      <th>14.08.21</th>\n",
              "      <td>1212</td>\n",
              "      <td>107</td>\n",
              "      <td>134</td>\n",
              "      <td>77</td>\n",
              "      <td>58</td>\n",
              "      <td>26</td>\n",
              "      <td>15</td>\n",
              "    </tr>\n",
              "    <tr>\n",
              "      <th>15.08.21</th>\n",
              "      <td>1393</td>\n",
              "      <td>157</td>\n",
              "      <td>178</td>\n",
              "      <td>98</td>\n",
              "      <td>64</td>\n",
              "      <td>44</td>\n",
              "      <td>17</td>\n",
              "    </tr>\n",
              "    <tr>\n",
              "      <th>16.08.21</th>\n",
              "      <td>2001</td>\n",
              "      <td>174</td>\n",
              "      <td>312</td>\n",
              "      <td>158</td>\n",
              "      <td>103</td>\n",
              "      <td>62</td>\n",
              "      <td>39</td>\n",
              "    </tr>\n",
              "    <tr>\n",
              "      <th>17.08.21</th>\n",
              "      <td>2173</td>\n",
              "      <td>204</td>\n",
              "      <td>311</td>\n",
              "      <td>177</td>\n",
              "      <td>97</td>\n",
              "      <td>49</td>\n",
              "      <td>26</td>\n",
              "    </tr>\n",
              "    <tr>\n",
              "      <th>18.08.21</th>\n",
              "      <td>2233</td>\n",
              "      <td>222</td>\n",
              "      <td>347</td>\n",
              "      <td>174</td>\n",
              "      <td>122</td>\n",
              "      <td>45</td>\n",
              "      <td>32</td>\n",
              "    </tr>\n",
              "    <tr>\n",
              "      <th>19.08.21</th>\n",
              "      <td>2479</td>\n",
              "      <td>235</td>\n",
              "      <td>390</td>\n",
              "      <td>190</td>\n",
              "      <td>132</td>\n",
              "      <td>48</td>\n",
              "      <td>30</td>\n",
              "    </tr>\n",
              "    <tr>\n",
              "      <th>20.08.21</th>\n",
              "      <td>1981</td>\n",
              "      <td>202</td>\n",
              "      <td>314</td>\n",
              "      <td>147</td>\n",
              "      <td>104</td>\n",
              "      <td>45</td>\n",
              "      <td>28</td>\n",
              "    </tr>\n",
              "    <tr>\n",
              "      <th>21.08.21</th>\n",
              "      <td>1322</td>\n",
              "      <td>121</td>\n",
              "      <td>165</td>\n",
              "      <td>83</td>\n",
              "      <td>53</td>\n",
              "      <td>23</td>\n",
              "      <td>25</td>\n",
              "    </tr>\n",
              "    <tr>\n",
              "      <th>22.08.21</th>\n",
              "      <td>1396</td>\n",
              "      <td>126</td>\n",
              "      <td>184</td>\n",
              "      <td>101</td>\n",
              "      <td>56</td>\n",
              "      <td>34</td>\n",
              "      <td>31</td>\n",
              "    </tr>\n",
              "    <tr>\n",
              "      <th>23.08.21</th>\n",
              "      <td>2147</td>\n",
              "      <td>230</td>\n",
              "      <td>367</td>\n",
              "      <td>179</td>\n",
              "      <td>106</td>\n",
              "      <td>49</td>\n",
              "      <td>47</td>\n",
              "    </tr>\n",
              "    <tr>\n",
              "      <th>24.08.21</th>\n",
              "      <td>2286</td>\n",
              "      <td>207</td>\n",
              "      <td>399</td>\n",
              "      <td>178</td>\n",
              "      <td>118</td>\n",
              "      <td>55</td>\n",
              "      <td>38</td>\n",
              "    </tr>\n",
              "    <tr>\n",
              "      <th>25.08.21</th>\n",
              "      <td>2570</td>\n",
              "      <td>241</td>\n",
              "      <td>437</td>\n",
              "      <td>202</td>\n",
              "      <td>118</td>\n",
              "      <td>47</td>\n",
              "      <td>40</td>\n",
              "    </tr>\n",
              "    <tr>\n",
              "      <th>26.08.21</th>\n",
              "      <td>2472</td>\n",
              "      <td>236</td>\n",
              "      <td>366</td>\n",
              "      <td>214</td>\n",
              "      <td>116</td>\n",
              "      <td>52</td>\n",
              "      <td>40</td>\n",
              "    </tr>\n",
              "    <tr>\n",
              "      <th>27.08.21</th>\n",
              "      <td>2003</td>\n",
              "      <td>207</td>\n",
              "      <td>294</td>\n",
              "      <td>137</td>\n",
              "      <td>96</td>\n",
              "      <td>47</td>\n",
              "      <td>36</td>\n",
              "    </tr>\n",
              "    <tr>\n",
              "      <th>28.08.21</th>\n",
              "      <td>1345</td>\n",
              "      <td>122</td>\n",
              "      <td>164</td>\n",
              "      <td>86</td>\n",
              "      <td>52</td>\n",
              "      <td>23</td>\n",
              "      <td>14</td>\n",
              "    </tr>\n",
              "    <tr>\n",
              "      <th>29.08.21</th>\n",
              "      <td>1437</td>\n",
              "      <td>132</td>\n",
              "      <td>177</td>\n",
              "      <td>89</td>\n",
              "      <td>58</td>\n",
              "      <td>25</td>\n",
              "      <td>21</td>\n",
              "    </tr>\n",
              "    <tr>\n",
              "      <th>30.08.21</th>\n",
              "      <td>2141</td>\n",
              "      <td>235</td>\n",
              "      <td>320</td>\n",
              "      <td>192</td>\n",
              "      <td>130</td>\n",
              "      <td>45</td>\n",
              "      <td>40</td>\n",
              "    </tr>\n",
              "    <tr>\n",
              "      <th>31.08.21</th>\n",
              "      <td>2265</td>\n",
              "      <td>243</td>\n",
              "      <td>376</td>\n",
              "      <td>189</td>\n",
              "      <td>108</td>\n",
              "      <td>52</td>\n",
              "      <td>37</td>\n",
              "    </tr>\n",
              "  </tbody>\n",
              "</table>\n",
              "</div>"
            ],
            "text/plain": [
              "          Alle Nutzer  18-24  25-34  35-44  45-54  55-64  65+\n",
              "Tag                                                          \n",
              "01.08.21         1420    144    177     96     50     45   23\n",
              "02.08.21         2505    253    454    211    142     74   50\n",
              "03.08.21         2545    279    397    201    127     69   61\n",
              "04.08.21         2518    306    407    225    120     77   37\n",
              "05.08.21         2502    243    392    232    140     66   52\n",
              "06.08.21         2066    214    338    162     77     54   37\n",
              "07.08.21         1284    130    139     84     38     44   22\n",
              "08.08.21         1409    146    196     90     51     22   23\n",
              "09.08.21         2309    256    387    186    131     46   58\n",
              "10.08.21         2242    251    346    199    100     66   40\n",
              "11.08.21         2099    236    315    172     89     52   27\n",
              "12.08.21         2110    215    316    152     99     50   34\n",
              "13.08.21         1808    171    259    118     80     51   28\n",
              "14.08.21         1212    107    134     77     58     26   15\n",
              "15.08.21         1393    157    178     98     64     44   17\n",
              "16.08.21         2001    174    312    158    103     62   39\n",
              "17.08.21         2173    204    311    177     97     49   26\n",
              "18.08.21         2233    222    347    174    122     45   32\n",
              "19.08.21         2479    235    390    190    132     48   30\n",
              "20.08.21         1981    202    314    147    104     45   28\n",
              "21.08.21         1322    121    165     83     53     23   25\n",
              "22.08.21         1396    126    184    101     56     34   31\n",
              "23.08.21         2147    230    367    179    106     49   47\n",
              "24.08.21         2286    207    399    178    118     55   38\n",
              "25.08.21         2570    241    437    202    118     47   40\n",
              "26.08.21         2472    236    366    214    116     52   40\n",
              "27.08.21         2003    207    294    137     96     47   36\n",
              "28.08.21         1345    122    164     86     52     23   14\n",
              "29.08.21         1437    132    177     89     58     25   21\n",
              "30.08.21         2141    235    320    192    130     45   40\n",
              "31.08.21         2265    243    376    189    108     52   37"
            ]
          },
          "metadata": {},
          "execution_count": 319
        }
      ]
    },
    {
      "cell_type": "code",
      "metadata": {
        "id": "BEF4AlYX1o0p"
      },
      "source": [
        "df.to_csv('Zielgruppenuebersicht_Gruppe_A.csv', sep=';')"
      ],
      "execution_count": 326,
      "outputs": []
    }
  ]
}