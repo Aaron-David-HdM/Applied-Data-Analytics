{
  "nbformat": 4,
  "nbformat_minor": 0,
  "metadata": {
    "colab": {
      "name": "Untitled0.ipynb",
      "provenance": [],
      "collapsed_sections": [],
      "include_colab_link": true
    },
    "kernelspec": {
      "name": "python3",
      "display_name": "Python 3"
    },
    "language_info": {
      "name": "python"
    }
  },
  "cells": [
    {
      "cell_type": "markdown",
      "metadata": {
        "id": "view-in-github",
        "colab_type": "text"
      },
      "source": [
        "<a href=\"https://colab.research.google.com/github/Aaron-David-HdM/Applied-Data-Analytics/blob/main/UseCase_1/Datenimport_und_Bereinigung.ipynb\" target=\"_parent\"><img src=\"https://colab.research.google.com/assets/colab-badge.svg\" alt=\"Open In Colab\"/></a>"
      ]
    },
    {
      "cell_type": "markdown",
      "metadata": {
        "id": "WwtRfpGsz4ku"
      },
      "source": [
        "**Zeigt Inhalte des gewählten Ordners**"
      ]
    },
    {
      "cell_type": "code",
      "metadata": {
        "id": "3gC3SBsLL2AF",
        "colab": {
          "base_uri": "https://localhost:8080/"
        },
        "outputId": "5b499faf-05ae-45f4-e511-ffd905accc6a"
      },
      "source": [
        "ls"
      ],
      "execution_count": null,
      "outputs": [
        {
          "output_type": "stream",
          "name": "stdout",
          "text": [
            "\u001b[0m\u001b[01;34mApplied-Data-Analytics\u001b[0m/  \u001b[01;34msample_data\u001b[0m/\n"
          ]
        }
      ]
    },
    {
      "cell_type": "markdown",
      "metadata": {
        "id": "YcLkXr3AyylG"
      },
      "source": [
        "**Verknüpfung zum GitHub-Repository**"
      ]
    },
    {
      "cell_type": "code",
      "metadata": {
        "id": "NfMwrAwz6Kqd",
        "colab": {
          "base_uri": "https://localhost:8080/"
        },
        "outputId": "dd089bb0-05d1-4ac6-86dc-cd24ec13f705"
      },
      "source": [
        "!git clone https://github.com/Aaron-David-HdM/Applied-Data-Analytics.git"
      ],
      "execution_count": 2,
      "outputs": [
        {
          "output_type": "stream",
          "name": "stdout",
          "text": [
            "Cloning into 'Applied-Data-Analytics'...\n",
            "remote: Enumerating objects: 139, done.\u001b[K\n",
            "remote: Counting objects: 100% (139/139), done.\u001b[K\n",
            "remote: Compressing objects: 100% (111/111), done.\u001b[K\n",
            "remote: Total 139 (delta 47), reused 0 (delta 0), pack-reused 0\u001b[K\n",
            "Receiving objects: 100% (139/139), 33.40 KiB | 621.00 KiB/s, done.\n",
            "Resolving deltas: 100% (47/47), done.\n"
          ]
        }
      ]
    },
    {
      "cell_type": "markdown",
      "metadata": {
        "id": "vjtzzce-y8yB"
      },
      "source": [
        "**Wechselt zum lokalen Repository-Verzeichnis und holt Daten vom GitHub-Repo**"
      ]
    },
    {
      "cell_type": "code",
      "metadata": {
        "id": "33fll6GjqNHk",
        "outputId": "234a5187-8cd3-42a6-9846-6c60727d9161",
        "colab": {
          "base_uri": "https://localhost:8080/"
        }
      },
      "source": [
        "%cd /content/Applied-Data-Analytics/\n",
        "!git pull"
      ],
      "execution_count": 24,
      "outputs": [
        {
          "output_type": "stream",
          "name": "stdout",
          "text": [
            "/content/Applied-Data-Analytics\n",
            "Already up to date.\n"
          ]
        }
      ]
    },
    {
      "cell_type": "markdown",
      "metadata": {
        "id": "xoL7yaw30CyI"
      },
      "source": [
        "**Bibliotheken-Import, Wechsel zum lokalen Repository und lädt die CSV-Dateien.**"
      ]
    },
    {
      "cell_type": "code",
      "metadata": {
        "id": "VUsBYa3bLySL",
        "colab": {
          "base_uri": "https://localhost:8080/"
        },
        "outputId": "240c7d09-49ae-4e42-c1c5-33e9d9032515"
      },
      "source": [
        "import pandas as pd\n",
        "import numpy as np\n",
        "from pandas.api.types import CategoricalDtype\n",
        "\n",
        "%cd /content/Applied-Data-Analytics/UseCase_1\n",
        "\n",
        "filepath_1 = 'Rohdaten_18-34_Jahre.csv' # Gesamtzahl der Nutzer,18-24 sowie 25-34 jährige Nutzer\n",
        "filepath_2 = 'Rohdaten_35-65+_Jahre.csv' # 35-44,\t45-54 und 55-64 jährige Nutzer sowie Nutzer über 65 Jahren\n",
        "\n",
        "\n",
        "df_1 = pd.read_csv(filepath_1, decimal=',')\n",
        "df_2 = pd.read_csv(filepath_2, decimal=',')"
      ],
      "execution_count": 25,
      "outputs": [
        {
          "output_type": "stream",
          "name": "stdout",
          "text": [
            "/content/Applied-Data-Analytics/UseCase_1\n"
          ]
        }
      ]
    },
    {
      "cell_type": "markdown",
      "metadata": {
        "id": "DRly6FYfRHnB"
      },
      "source": [
        "**Daten Bereinigung**\n",
        "\n",
        "Google Analytics erlaubt nur die Verknüpfung von bis zu 4 verschiedene Segmenten bei der Erzeugung der Daten. Somit waren wir gezwungen, zwei Tabellen anzulegen und diese im Anschluss miteinander zu 'mergen'.\n"
      ]
    },
    {
      "cell_type": "markdown",
      "metadata": {
        "id": "ZLMnJu5wxzNE"
      },
      "source": [
        "**Löschen von NaN-Werten und der 'Zeitraum'-Column sowie dem Ersetzen der Punkte bei den Zahlenwerten**"
      ]
    },
    {
      "cell_type": "code",
      "metadata": {
        "id": "jJo6k1ZRPMej"
      },
      "source": [
        "new_df_1 = df_1.dropna()\n",
        "new_df_1 = df_1.drop(columns=['Zeitraum'])\n",
        "new_df_1['Nutzer'] = new_df_1['Nutzer'].str.replace('.', '')\n",
        "\n",
        "new_df_2 = df_2.dropna()\n",
        "new_df_2 = df_2.drop(columns=['Zeitraum'])\n",
        "new_df_2['Nutzer'] = new_df_2['Nutzer'].str.replace('.', '')"
      ],
      "execution_count": 26,
      "outputs": []
    },
    {
      "cell_type": "markdown",
      "metadata": {
        "id": "RdL_bioEyTmV"
      },
      "source": [
        "**Columns umbenannt und neu gruppiert.**"
      ]
    },
    {
      "cell_type": "code",
      "metadata": {
        "id": "c8H1BsozgIHT"
      },
      "source": [
        "new_df_1 = new_df_1.rename(columns={'Segment':'Altersgruppe', 'Index: Tag':'Tag'})\n",
        "new_df_1 = new_df_1.groupby(['Tag', 'Altersgruppe'])['Nutzer'].first().unstack()\n",
        "new_df_1.columns = ['Alle Nutzer', '18-24', '25-34']\n",
        "\n",
        "new_df_2 = new_df_2.rename(columns={'Segment':'Altersgruppe', 'Index: Tag':'Tag'})\n",
        "new_df_2 = new_df_2.groupby(['Tag', 'Altersgruppe'])['Nutzer'].first().unstack()\n",
        "new_df_2.columns = ['35-44', '45-54', '55-64', '65+']"
      ],
      "execution_count": 27,
      "outputs": []
    },
    {
      "cell_type": "markdown",
      "metadata": {
        "id": "LD0AhXqfycPi"
      },
      "source": [
        "**Nutzerzahlen zu Integern konvertiert.**"
      ]
    },
    {
      "cell_type": "code",
      "metadata": {
        "id": "HsB5r_3QWAnJ"
      },
      "source": [
        "new_df_1[['18-24', '25-34', 'Alle Nutzer']] = new_df_1[['18-24', '25-34', 'Alle Nutzer']].apply(np.int64)\n",
        "\n",
        "new_df_2[['35-44', '45-54', '55-64', '65+']] = new_df_2[['35-44', '45-54', '55-64', '65+']].apply(np.int64)"
      ],
      "execution_count": 28,
      "outputs": []
    },
    {
      "cell_type": "markdown",
      "metadata": {
        "id": "EljqHuc4ykO1"
      },
      "source": [
        "**Die zwei Dataframes zu einem Dataframe zusammengeführt.**"
      ]
    },
    {
      "cell_type": "code",
      "metadata": {
        "id": "Sw4sXrfBdJDM"
      },
      "source": [
        "df = new_df_1.merge(new_df_2, how='inner', left_index=True, right_index=True)"
      ],
      "execution_count": 29,
      "outputs": []
    },
    {
      "cell_type": "markdown",
      "metadata": {
        "id": "xHNTd1WR-2Hf"
      },
      "source": [
        "**Nutzerzahlen je Tag addieren und Werte zum Datenframe hinzufügen**"
      ]
    },
    {
      "cell_type": "code",
      "metadata": {
        "id": "xZlkoIxg-2gF"
      },
      "source": [
        "df['Alle Nutzer_2'] = df.iloc[:, 1:].sum(axis=1)"
      ],
      "execution_count": 30,
      "outputs": []
    },
    {
      "cell_type": "markdown",
      "metadata": {
        "id": "cqD08NNW3byg"
      },
      "source": [
        "**Dataframe als CSV-Datei abspeichern**"
      ]
    },
    {
      "cell_type": "code",
      "metadata": {
        "id": "BEF4AlYX1o0p"
      },
      "source": [
        "df.to_csv('Testgruppe_A', sep=',')"
      ],
      "execution_count": 31,
      "outputs": []
    }
  ]
}