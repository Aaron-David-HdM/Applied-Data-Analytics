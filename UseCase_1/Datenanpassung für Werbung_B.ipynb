{
  "nbformat": 4,
  "nbformat_minor": 0,
  "metadata": {
    "colab": {
      "name": "Untitled1.ipynb",
      "provenance": [],
      "include_colab_link": true
    },
    "kernelspec": {
      "name": "python3",
      "display_name": "Python 3"
    },
    "language_info": {
      "name": "python"
    }
  },
  "cells": [
    {
      "cell_type": "markdown",
      "metadata": {
        "id": "view-in-github",
        "colab_type": "text"
      },
      "source": [
        "<a href=\"https://colab.research.google.com/github/Aaron-David-HdM/Applied-Data-Analytics/blob/main/UseCase_1/Datenanpassung%20f%C3%BCr%20Werbung_B.ipynb\" target=\"_parent\"><img src=\"https://colab.research.google.com/assets/colab-badge.svg\" alt=\"Open In Colab\"/></a>"
      ]
    },
    {
      "cell_type": "code",
      "metadata": {
        "colab": {
          "base_uri": "https://localhost:8080/"
        },
        "id": "fuyKiqwlRezP",
        "outputId": "15984dd7-6546-4035-d9c9-6933023cd735"
      },
      "source": [
        "ls"
      ],
      "execution_count": null,
      "outputs": [
        {
          "output_type": "stream",
          "name": "stdout",
          "text": [
            "\u001b[0m\u001b[01;34msample_data\u001b[0m/\n"
          ]
        }
      ]
    },
    {
      "cell_type": "code",
      "metadata": {
        "colab": {
          "base_uri": "https://localhost:8080/"
        },
        "id": "S5AwD1BmRvay",
        "outputId": "f9250aa5-8bc8-4b67-fea9-3000adf39e47"
      },
      "source": [
        "#!git clone https://github.com/Aaron-David-HdM/Applied-Data-Analytics.git"
      ],
      "execution_count": null,
      "outputs": [
        {
          "output_type": "stream",
          "name": "stdout",
          "text": [
            "Cloning into 'Applied-Data-Analytics'...\n",
            "remote: Enumerating objects: 132, done.\u001b[K\n",
            "remote: Counting objects: 100% (132/132), done.\u001b[K\n",
            "remote: Compressing objects: 100% (106/106), done.\u001b[K\n",
            "remote: Total 132 (delta 44), reused 0 (delta 0), pack-reused 0\u001b[K\n",
            "Receiving objects: 100% (132/132), 32.21 KiB | 4.60 MiB/s, done.\n",
            "Resolving deltas: 100% (44/44), done.\n"
          ]
        }
      ]
    },
    {
      "cell_type": "code",
      "metadata": {
        "colab": {
          "base_uri": "https://localhost:8080/"
        },
        "id": "HT66n8kmRycH",
        "outputId": "7576cd2b-e8ec-49de-f43d-500ad385b774"
      },
      "source": [
        "%cd /content/Applied-Data-Analytics/UseCase_1"
      ],
      "execution_count": null,
      "outputs": [
        {
          "output_type": "stream",
          "name": "stdout",
          "text": [
            "/content/Applied-Data-Analytics/UseCase_1\n"
          ]
        }
      ]
    },
    {
      "cell_type": "code",
      "metadata": {
        "id": "QYOcnA25R2HZ"
      },
      "source": [
        "import pandas as pd\n",
        "import numpy as np\n",
        "\n",
        "filepath_1 = 'Werbung_A.csv' # Zielgruppenübersicht der Werbungs-Gruppe A\n",
        "df = pd.read_csv(filepath_1, decimal=',')"
      ],
      "execution_count": null,
      "outputs": []
    },
    {
      "cell_type": "code",
      "metadata": {
        "colab": {
          "base_uri": "https://localhost:8080/",
          "height": 206
        },
        "id": "mKSSZdoxTjAf",
        "outputId": "7deeac16-f20e-41c7-8aae-9a22a19bf1eb"
      },
      "source": [
        "df.head()"
      ],
      "execution_count": null,
      "outputs": [
        {
          "output_type": "execute_result",
          "data": {
            "text/html": [
              "<div>\n",
              "<style scoped>\n",
              "    .dataframe tbody tr th:only-of-type {\n",
              "        vertical-align: middle;\n",
              "    }\n",
              "\n",
              "    .dataframe tbody tr th {\n",
              "        vertical-align: top;\n",
              "    }\n",
              "\n",
              "    .dataframe thead th {\n",
              "        text-align: right;\n",
              "    }\n",
              "</style>\n",
              "<table border=\"1\" class=\"dataframe\">\n",
              "  <thead>\n",
              "    <tr style=\"text-align: right;\">\n",
              "      <th></th>\n",
              "      <th>Tag</th>\n",
              "      <th>Alle Nutzer</th>\n",
              "      <th>18-24</th>\n",
              "      <th>25-34</th>\n",
              "      <th>35-44</th>\n",
              "      <th>45-54</th>\n",
              "      <th>55-64</th>\n",
              "      <th>65+</th>\n",
              "    </tr>\n",
              "  </thead>\n",
              "  <tbody>\n",
              "    <tr>\n",
              "      <th>0</th>\n",
              "      <td>01.08.21</td>\n",
              "      <td>1420</td>\n",
              "      <td>144</td>\n",
              "      <td>177</td>\n",
              "      <td>96</td>\n",
              "      <td>50</td>\n",
              "      <td>45</td>\n",
              "      <td>23</td>\n",
              "    </tr>\n",
              "    <tr>\n",
              "      <th>1</th>\n",
              "      <td>02.08.21</td>\n",
              "      <td>2505</td>\n",
              "      <td>253</td>\n",
              "      <td>454</td>\n",
              "      <td>211</td>\n",
              "      <td>142</td>\n",
              "      <td>74</td>\n",
              "      <td>50</td>\n",
              "    </tr>\n",
              "    <tr>\n",
              "      <th>2</th>\n",
              "      <td>03.08.21</td>\n",
              "      <td>2545</td>\n",
              "      <td>279</td>\n",
              "      <td>397</td>\n",
              "      <td>201</td>\n",
              "      <td>127</td>\n",
              "      <td>69</td>\n",
              "      <td>61</td>\n",
              "    </tr>\n",
              "    <tr>\n",
              "      <th>3</th>\n",
              "      <td>04.08.21</td>\n",
              "      <td>2518</td>\n",
              "      <td>306</td>\n",
              "      <td>407</td>\n",
              "      <td>225</td>\n",
              "      <td>120</td>\n",
              "      <td>77</td>\n",
              "      <td>37</td>\n",
              "    </tr>\n",
              "    <tr>\n",
              "      <th>4</th>\n",
              "      <td>05.08.21</td>\n",
              "      <td>2502</td>\n",
              "      <td>243</td>\n",
              "      <td>392</td>\n",
              "      <td>232</td>\n",
              "      <td>140</td>\n",
              "      <td>66</td>\n",
              "      <td>52</td>\n",
              "    </tr>\n",
              "  </tbody>\n",
              "</table>\n",
              "</div>"
            ],
            "text/plain": [
              "        Tag  Alle Nutzer  18-24  25-34  35-44  45-54  55-64  65+\n",
              "0  01.08.21         1420    144    177     96     50     45   23\n",
              "1  02.08.21         2505    253    454    211    142     74   50\n",
              "2  03.08.21         2545    279    397    201    127     69   61\n",
              "3  04.08.21         2518    306    407    225    120     77   37\n",
              "4  05.08.21         2502    243    392    232    140     66   52"
            ]
          },
          "metadata": {},
          "execution_count": 158
        }
      ]
    },
    {
      "cell_type": "markdown",
      "metadata": {
        "id": "F8xGgTsVngaT"
      },
      "source": [
        "**Erhöhen der Besucherzahlen der Zielgruppe 18-24 Jahre**"
      ]
    },
    {
      "cell_type": "code",
      "metadata": {
        "id": "qQLg6N56soLe"
      },
      "source": [
        "age_18_24 = {}\n",
        "\n",
        "for key, value in df[\"18-24\"].iteritems():\n",
        "  value = int(round(value + (value * (np.random.randint(1, 4) / 10))))\n",
        "  age_18_24[key] = value\n",
        "\n",
        "df['18-24'] = df.index.to_series().map(age_18_24)"
      ],
      "execution_count": null,
      "outputs": []
    },
    {
      "cell_type": "markdown",
      "metadata": {
        "id": "R0pFogRAv5lU"
      },
      "source": [
        "**Erhöhen der Besucherzahlen der Zielgruppe 25-34 Jahre**"
      ]
    },
    {
      "cell_type": "code",
      "metadata": {
        "id": "-KtROWR0aj8W"
      },
      "source": [
        "age_25_34 = {}\n",
        "\n",
        "for key, value in df[\"25-34\"].iteritems():\n",
        "  value = int(round(value + (value * (np.random.randint(1, 4) / 10))))\n",
        "  age_25_34[key] = value\n",
        "\n",
        "df['25-34'] = df.index.to_series().map(age_25_34)"
      ],
      "execution_count": null,
      "outputs": []
    },
    {
      "cell_type": "markdown",
      "metadata": {
        "id": "SUiUeFzqw-cg"
      },
      "source": [
        "**Reduzieren der Besucherzahlen der Zielgruppe 35-44 Jahre**"
      ]
    },
    {
      "cell_type": "code",
      "metadata": {
        "id": "EmnFMXGErPUZ"
      },
      "source": [
        "age_35_44 = {}\n",
        "\n",
        "for key, value in df[\"35-44\"].iteritems():\n",
        "  value = int(round(value - (value * (np.random.randint(1, 3) / 10))))\n",
        "  age_35_44[key] = value\n",
        "\n",
        "df['35-44'] = df.index.to_series().map(age_35_44)"
      ],
      "execution_count": null,
      "outputs": []
    },
    {
      "cell_type": "markdown",
      "metadata": {
        "id": "yhA4OBrKxOmK"
      },
      "source": [
        "**Reduzieren der Besucherzahlen der Zielgruppe 45-54 Jahre**"
      ]
    },
    {
      "cell_type": "code",
      "metadata": {
        "id": "TE4ZvcDExSUx"
      },
      "source": [
        "age_45_54 = {}\n",
        "\n",
        "for key, value in df[\"45-54\"].iteritems():\n",
        "  value = int(round(value - (value * (np.random.randint(1, 3) / 10))))\n",
        "  age_45_54[key] = value\n",
        "\n",
        "df['45-54'] = df.index.to_series().map(age_45_54)"
      ],
      "execution_count": null,
      "outputs": []
    },
    {
      "cell_type": "markdown",
      "metadata": {
        "id": "9V9W6KCDqFWm"
      },
      "source": [
        "**Reduzieren der Besucherzahlen der Zielgruppe 55-64 Jahre**"
      ]
    },
    {
      "cell_type": "code",
      "metadata": {
        "id": "BJI_70BcxY9c"
      },
      "source": [
        "age_55_64 = {}\n",
        "\n",
        "for key, value in df[\"55-64\"].iteritems():\n",
        "  value = int(round(value - (value * (np.random.randint(1, 3) / 10))))\n",
        "  age_55_64[key] = value\n",
        "\n",
        "df['55-64'] = df.index.to_series().map(age_55_64)"
      ],
      "execution_count": null,
      "outputs": []
    },
    {
      "cell_type": "markdown",
      "metadata": {
        "id": "Nu_UkfQDxZUk"
      },
      "source": [
        "**Reduzieren der Besucherzahlen der Zielgruppe 65+ Jahre**"
      ]
    },
    {
      "cell_type": "code",
      "metadata": {
        "id": "2w5BguYKx0d1"
      },
      "source": [
        "age_65_plus = {}\n",
        "\n",
        "for key, value in df[\"65+\"].iteritems():\n",
        "  value = int(round(value - (value * (np.random.randint(1, 3) / 10))))\n",
        "  age_65_plus[key] = value\n",
        "\n",
        "df['65+'] = df.index.to_series().map(age_65_plus)"
      ],
      "execution_count": null,
      "outputs": []
    },
    {
      "cell_type": "markdown",
      "metadata": {
        "id": "D4V_RJUP31Fi"
      },
      "source": [
        "**Nutzerzahlen je Tag addieren und Werte zum Datenframe hinzufügen**"
      ]
    },
    {
      "cell_type": "code",
      "metadata": {
        "id": "w-2YTOwhqEEu"
      },
      "source": [
        "df.drop(columns=['Alle Nutzer'])\n",
        "df['Alle Nutzer'] = df.iloc[:, 2:].sum(axis=1)"
      ],
      "execution_count": null,
      "outputs": []
    },
    {
      "cell_type": "markdown",
      "metadata": {
        "id": "Z8Q5rgmF4DUX"
      },
      "source": [
        "**Speichern des Datenframes als CSV-Datei**"
      ]
    },
    {
      "cell_type": "code",
      "metadata": {
        "id": "Pw4C01SR2fld"
      },
      "source": [
        "df.to_csv('Werbung_B.csv', sep=',')"
      ],
      "execution_count": null,
      "outputs": []
    }
  ]
}