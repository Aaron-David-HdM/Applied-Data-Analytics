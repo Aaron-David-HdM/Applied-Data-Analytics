{
  "nbformat": 4,
  "nbformat_minor": 0,
  "metadata": {
    "colab": {
      "name": "Untitled4.ipynb",
      "provenance": [],
      "authorship_tag": "ABX9TyPK0UUbhOU9dSaccebeBV2o",
      "include_colab_link": true
    },
    "kernelspec": {
      "name": "python3",
      "display_name": "Python 3"
    },
    "language_info": {
      "name": "python"
    }
  },
  "cells": [
    {
      "cell_type": "markdown",
      "metadata": {
        "id": "view-in-github",
        "colab_type": "text"
      },
      "source": [
        "<a href=\"https://colab.research.google.com/github/Aaron-David-HdM/Applied-Data-Analytics/blob/main/UseCase_1/Durchf%C3%BChrung_A_B-Test.ipynb\" target=\"_parent\"><img src=\"https://colab.research.google.com/assets/colab-badge.svg\" alt=\"Open In Colab\"/></a>"
      ]
    },
    {
      "cell_type": "code",
      "execution_count": 5,
      "metadata": {
        "colab": {
          "base_uri": "https://localhost:8080/"
        },
        "id": "2DNeEgQlAetK",
        "outputId": "030cb8ce-dd08-4715-e187-a99b3ce7e447"
      },
      "outputs": [
        {
          "output_type": "stream",
          "name": "stdout",
          "text": [
            "Cloning into 'Applied-Data-Analytics'...\n",
            "remote: Enumerating objects: 202, done.\u001b[K\n",
            "remote: Counting objects: 100% (43/43), done.\u001b[K\n",
            "remote: Compressing objects: 100% (32/32), done.\u001b[K\n",
            "remote: Total 202 (delta 13), reused 0 (delta 0), pack-reused 159\u001b[K\n",
            "Receiving objects: 100% (202/202), 53.54 KiB | 8.92 MiB/s, done.\n",
            "Resolving deltas: 100% (70/70), done.\n"
          ]
        }
      ],
      "source": [
        "#!git clone https://github.com/Aaron-David-HdM/Applied-Data-Analytics.git"
      ]
    },
    {
      "cell_type": "code",
      "source": [
        "%cd /content/Applied-Data-Analytics/UseCase_1"
      ],
      "metadata": {
        "colab": {
          "base_uri": "https://localhost:8080/"
        },
        "id": "KQ3GBV5dAlXR",
        "outputId": "a4d1d03c-1422-4f88-9b25-096cef84ca70"
      },
      "execution_count": 6,
      "outputs": [
        {
          "output_type": "stream",
          "name": "stdout",
          "text": [
            "/content/Applied-Data-Analytics/UseCase_1\n"
          ]
        }
      ]
    },
    {
      "cell_type": "code",
      "source": [
        "import pandas as pd\n",
        "import numpy as np\n",
        "import scipy.stats as stats\n",
        "\n",
        "filepath_1 = 'Werbung_A.csv' # Werbungs-Gruppe A\n",
        "filepath_2 = 'Werbung_B.csv' # Werbungs-Gruppe B\n",
        "df_A = pd.read_csv(filepath_1, decimal=',')\n",
        "df_B = pd.read_csv(filepath_2, decimal=',')"
      ],
      "metadata": {
        "id": "C8_kvHcNApqp"
      },
      "execution_count": 7,
      "outputs": []
    },
    {
      "cell_type": "markdown",
      "source": [
        "**Summenbildung aller relevanten Spalten**"
      ],
      "metadata": {
        "id": "7Q5XGWMzFQN0"
      }
    },
    {
      "cell_type": "markdown",
      "source": [
        "Werbung A:"
      ],
      "metadata": {
        "id": "wArWa9EXMJNJ"
      }
    },
    {
      "cell_type": "code",
      "source": [
        "Alle_Nutzer_A = sum(df_A['Alle Nutzer'])\n",
        "Nutzer_18_24_A = sum(df_A['18-24'])\n",
        "Nutzer_25_34_A = sum(df_A['25-34'])\n",
        "Zielgruppenbesucherzahlen_A = Nutzer_18_24_A + Nutzer_25_34_A"
      ],
      "metadata": {
        "id": "h5uDvJ4HEuD9"
      },
      "execution_count": 8,
      "outputs": []
    },
    {
      "cell_type": "markdown",
      "source": [
        "Werbung B:"
      ],
      "metadata": {
        "id": "SOhyfRL-MPWy"
      }
    },
    {
      "cell_type": "code",
      "source": [
        "Alle_Nutzer_B = sum(df_B['Alle Nutzer'])\n",
        "Nutzer_18_24_B = sum(df_B['18-24'])\n",
        "Nutzer_25_34_B = sum(df_B['25-34'])\n",
        "Zielgruppenbesucherzahlen_B = Nutzer_18_24_B + Nutzer_25_34_B"
      ],
      "metadata": {
        "id": "UAadhHpwMRLu"
      },
      "execution_count": 9,
      "outputs": []
    },
    {
      "cell_type": "markdown",
      "source": [
        "**Berechnen der Baseline conversion rate**"
      ],
      "metadata": {
        "id": "B6VbWyuIGUGb"
      }
    },
    {
      "cell_type": "code",
      "source": [
        "Baseline_Conversion_Rate = round((Zielgruppenbesucherzahlen_A / Alle_Nutzer_A), 3)\n",
        "print(Baseline_Conversion_Rate)"
      ],
      "metadata": {
        "colab": {
          "base_uri": "https://localhost:8080/"
        },
        "id": "PDitJHG7GRXI",
        "outputId": "b5b01e2f-2584-4bd8-fb3a-5597b7aae220"
      },
      "execution_count": 10,
      "outputs": [
        {
          "output_type": "stream",
          "name": "stdout",
          "text": [
            "0.603\n"
          ]
        }
      ]
    },
    {
      "cell_type": "markdown",
      "source": [
        "**Berechnen der Conversion Rate von Werbung B**"
      ],
      "metadata": {
        "id": "ETBP3g0EJ52S"
      }
    },
    {
      "cell_type": "code",
      "source": [
        "Conversion_Rate_B = round((Zielgruppenbesucherzahlen_B / Alle_Nutzer_B), 3)\n",
        "print(Conversion_Rate_B)"
      ],
      "metadata": {
        "colab": {
          "base_uri": "https://localhost:8080/"
        },
        "id": "pEwCDcmQJJGJ",
        "outputId": "54a2ee34-e3e9-47c0-98f2-b1a6b68e494b"
      },
      "execution_count": 11,
      "outputs": [
        {
          "output_type": "stream",
          "name": "stdout",
          "text": [
            "0.683\n"
          ]
        }
      ]
    },
    {
      "cell_type": "markdown",
      "source": [
        "Die Baseline Conversion Rate unterscheidet sich von der Conversion Rate (Werbung B) um **8%**!"
      ],
      "metadata": {
        "id": "wqLLXOtYOlMA"
      }
    },
    {
      "cell_type": "code",
      "source": [
        ""
      ],
      "metadata": {
        "id": "8PpaRbO89Ob0"
      },
      "execution_count": null,
      "outputs": []
    },
    {
      "cell_type": "markdown",
      "source": [
        "**Durchführen des Binomial-Tests**"
      ],
      "metadata": {
        "id": "iuh0Jc5mKB38"
      }
    },
    {
      "cell_type": "markdown",
      "source": [
        "- Null Hypothese ($H_0)$: Zwischen den beiden Conversion-Rates besteht kein Unterschied.\n",
        "- Alternative Hypothese ($H_1)$: Zwischen den beiden Conversion-Rates besteht ein Unterschied.\n",
        "\n"
      ],
      "metadata": {
        "id": "8Eq24wSY9GF2"
      }
    },
    {
      "cell_type": "code",
      "source": [
        "p_value = stats.binom_test(Zielgruppenbesucherzahlen_B, n=Alle_Nutzer_A, p=Baseline_Conversion_Rate, alternative='two-sided')"
      ],
      "metadata": {
        "id": "aXmYw9qOIzHd"
      },
      "execution_count": 20,
      "outputs": []
    },
    {
      "cell_type": "code",
      "source": [
        "p_value = round(p_value, 2)\n",
        "print(\"p-Value: \",p_value)"
      ],
      "metadata": {
        "id": "wF7gqTGU1fMV",
        "outputId": "3e4d5cd7-b4a1-47dc-b0ef-e15f0af1d79c",
        "colab": {
          "base_uri": "https://localhost:8080/"
        }
      },
      "execution_count": 25,
      "outputs": [
        {
          "output_type": "stream",
          "name": "stdout",
          "text": [
            "p-Value:  0.0\n"
          ]
        }
      ]
    },
    {
      "cell_type": "markdown",
      "source": [
        "**Ergebnisinterpretation:**\n",
        "\n",
        "Die Null-Hypothese kann zurückgewiesen werden, da sich der berechnete p-Wert (0.00) unterhalb des Signifikanzniveaus von 5% befindet!"
      ],
      "metadata": {
        "id": "5enRBBaD-TCp"
      }
    },
    {
      "cell_type": "code",
      "source": [
        ""
      ],
      "metadata": {
        "id": "UtXAMwoc-njf"
      },
      "execution_count": 19,
      "outputs": []
    }
  ]
}