{
  "nbformat": 4,
  "nbformat_minor": 0,
  "metadata": {
    "colab": {
      "name": "Untitled8.ipynb",
      "provenance": [],
      "authorship_tag": "ABX9TyOewUwkWfgadDww3f0BFfks",
      "include_colab_link": true
    },
    "kernelspec": {
      "name": "python3",
      "display_name": "Python 3"
    },
    "language_info": {
      "name": "python"
    }
  },
  "cells": [
    {
      "cell_type": "markdown",
      "metadata": {
        "id": "view-in-github",
        "colab_type": "text"
      },
      "source": [
        "<a href=\"https://colab.research.google.com/github/Aaron-David-HdM/Applied-Data-Analytics/blob/main/UseCase_3/Durchfuehrung%20der%20Klassifikationsanalyse.ipynb\" target=\"_parent\"><img src=\"https://colab.research.google.com/assets/colab-badge.svg\" alt=\"Open In Colab\"/></a>"
      ]
    },
    {
      "cell_type": "markdown",
      "source": [
        "\n",
        "**Git-Repository klonen sowie pullen**"
      ],
      "metadata": {
        "id": "RbQ-dYAWsBFI"
      }
    },
    {
      "cell_type": "code",
      "execution_count": 1,
      "metadata": {
        "colab": {
          "base_uri": "https://localhost:8080/"
        },
        "id": "TCa5T6Fzr5xK",
        "outputId": "960210f5-9314-4c94-c0c0-efb51029395d"
      },
      "outputs": [
        {
          "output_type": "stream",
          "name": "stdout",
          "text": [
            "Cloning into 'Applied-Data-Analytics'...\n",
            "remote: Enumerating objects: 668, done.\u001b[K\n",
            "remote: Counting objects: 100% (509/509), done.\u001b[K\n",
            "remote: Compressing objects: 100% (493/493), done.\u001b[K\n",
            "remote: Total 668 (delta 223), reused 0 (delta 0), pack-reused 159\u001b[K\n",
            "Receiving objects: 100% (668/668), 6.24 MiB | 4.08 MiB/s, done.\n",
            "Resolving deltas: 100% (280/280), done.\n"
          ]
        }
      ],
      "source": [
        "!git clone https://github.com/Aaron-David-HdM/Applied-Data-Analytics.git"
      ]
    },
    {
      "cell_type": "markdown",
      "source": [
        "**Zu dem UseCase_3-Pfad wechseln**"
      ],
      "metadata": {
        "id": "-K6jg4VGsGBv"
      }
    },
    {
      "cell_type": "code",
      "source": [
        "%cd /content/Applied-Data-Analytics/UseCase_3"
      ],
      "metadata": {
        "colab": {
          "base_uri": "https://localhost:8080/"
        },
        "id": "fPZ1xAo7sP91",
        "outputId": "2cd67002-889f-4973-f12b-e647ee6f68c1"
      },
      "execution_count": 2,
      "outputs": [
        {
          "output_type": "stream",
          "name": "stdout",
          "text": [
            "/content/Applied-Data-Analytics/UseCase_3\n"
          ]
        }
      ]
    },
    {
      "cell_type": "markdown",
      "source": [
        "**Importieren von benötigten Bibliotheken sowie Lesen der CSV-Datei**"
      ],
      "metadata": {
        "id": "wTtl9UAUsRRu"
      }
    },
    {
      "cell_type": "code",
      "source": [
        "import pandas as pd\n",
        "import numpy as np\n",
        "import seaborn as sns\n",
        "import matplotlib.pyplot as plt\n",
        "import sklearn.linear_model as skl_lm\n",
        "from sklearn.model_selection import train_test_split \n",
        "from sklearn.metrics import confusion_matrix, ConfusionMatrixDisplay, classification_report\n",
        "\n",
        "filepath = 'Einkommen_und_Verkaeufe.csv' # Bereinigte Daten für UseCase_3\n",
        "df = pd.read_csv(filepath, decimal='.')"
      ],
      "metadata": {
        "id": "rmbyziqIsMnm"
      },
      "execution_count": 3,
      "outputs": []
    },
    {
      "cell_type": "markdown",
      "source": [
        "**Nicht benötigte 'Unnamed'-Spalte entfernt**"
      ],
      "metadata": {
        "id": "n0SaX92rs1P9"
      }
    },
    {
      "cell_type": "code",
      "source": [
        "df.drop(columns= ['Unnamed: 0'], inplace = True)"
      ],
      "metadata": {
        "id": "w6sLLs3os1pO"
      },
      "execution_count": 4,
      "outputs": []
    },
    {
      "cell_type": "markdown",
      "source": [
        "**Die Werteverteilung der abhängigen Variable ausgeben**"
      ],
      "metadata": {
        "id": "uIl48tS6tPJ3"
      }
    },
    {
      "cell_type": "code",
      "source": [
        "df['Purchased'].value_counts()"
      ],
      "metadata": {
        "colab": {
          "base_uri": "https://localhost:8080/"
        },
        "id": "PzAplYHZtPa5",
        "outputId": "60f46f60-57c8-477f-c59a-11ba74325ba3"
      },
      "execution_count": 5,
      "outputs": [
        {
          "output_type": "execute_result",
          "data": {
            "text/plain": [
              "0    711\n",
              "1    289\n",
              "Name: Purchased, dtype: int64"
            ]
          },
          "metadata": {},
          "execution_count": 5
        }
      ]
    },
    {
      "cell_type": "markdown",
      "source": [
        "**Daten für Scikit learn vorbereiten**"
      ],
      "metadata": {
        "id": "9QuvLVEEwjoO"
      }
    },
    {
      "cell_type": "code",
      "source": [
        "X = df.drop(columns=['Purchased'])\n",
        "y = df.Purchased"
      ],
      "metadata": {
        "id": "KMRN3JqfwjCI"
      },
      "execution_count": 6,
      "outputs": []
    },
    {
      "cell_type": "markdown",
      "source": [
        "**Trainings- und Testdatensätze erstellen**"
      ],
      "metadata": {
        "id": "_ezRhxKzxJo1"
      }
    },
    {
      "cell_type": "code",
      "source": [
        "X_train, X_test, y_train, y_test = train_test_split(X, y, test_size=0.3, random_state = 1834)"
      ],
      "metadata": {
        "id": "L0o-qcqhxKX1"
      },
      "execution_count": 7,
      "outputs": []
    },
    {
      "cell_type": "markdown",
      "source": [
        "**Erstellen eines neuen Trainingsdatensatzes für die Datenexploration**"
      ],
      "metadata": {
        "id": "qjOwUH7cxwWm"
      }
    },
    {
      "cell_type": "code",
      "source": [
        "train_dataset = pd.DataFrame(X_train).copy()\n",
        "train_dataset['Purchased'] = pd.DataFrame(y_train)\n",
        "\n",
        "train_dataset"
      ],
      "metadata": {
        "id": "Ob1bCjWTxwyB",
        "outputId": "f045e3ba-3a1f-4517-f997-2494a33904a4",
        "colab": {
          "base_uri": "https://localhost:8080/",
          "height": 424
        }
      },
      "execution_count": 8,
      "outputs": [
        {
          "output_type": "execute_result",
          "data": {
            "text/html": [
              "\n",
              "  <div id=\"df-f3f7b92d-46a4-470c-8ce0-5a3bb3ece9fd\">\n",
              "    <div class=\"colab-df-container\">\n",
              "      <div>\n",
              "<style scoped>\n",
              "    .dataframe tbody tr th:only-of-type {\n",
              "        vertical-align: middle;\n",
              "    }\n",
              "\n",
              "    .dataframe tbody tr th {\n",
              "        vertical-align: top;\n",
              "    }\n",
              "\n",
              "    .dataframe thead th {\n",
              "        text-align: right;\n",
              "    }\n",
              "</style>\n",
              "<table border=\"1\" class=\"dataframe\">\n",
              "  <thead>\n",
              "    <tr style=\"text-align: right;\">\n",
              "      <th></th>\n",
              "      <th>MonthlyIncome</th>\n",
              "      <th>Male</th>\n",
              "      <th>Age</th>\n",
              "      <th>Purchased</th>\n",
              "    </tr>\n",
              "  </thead>\n",
              "  <tbody>\n",
              "    <tr>\n",
              "      <th>369</th>\n",
              "      <td>6082</td>\n",
              "      <td>1</td>\n",
              "      <td>29</td>\n",
              "      <td>0</td>\n",
              "    </tr>\n",
              "    <tr>\n",
              "      <th>239</th>\n",
              "      <td>927</td>\n",
              "      <td>1</td>\n",
              "      <td>29</td>\n",
              "      <td>0</td>\n",
              "    </tr>\n",
              "    <tr>\n",
              "      <th>269</th>\n",
              "      <td>644</td>\n",
              "      <td>0</td>\n",
              "      <td>34</td>\n",
              "      <td>1</td>\n",
              "    </tr>\n",
              "    <tr>\n",
              "      <th>360</th>\n",
              "      <td>4337</td>\n",
              "      <td>0</td>\n",
              "      <td>24</td>\n",
              "      <td>0</td>\n",
              "    </tr>\n",
              "    <tr>\n",
              "      <th>308</th>\n",
              "      <td>532</td>\n",
              "      <td>1</td>\n",
              "      <td>31</td>\n",
              "      <td>0</td>\n",
              "    </tr>\n",
              "    <tr>\n",
              "      <th>...</th>\n",
              "      <td>...</td>\n",
              "      <td>...</td>\n",
              "      <td>...</td>\n",
              "      <td>...</td>\n",
              "    </tr>\n",
              "    <tr>\n",
              "      <th>449</th>\n",
              "      <td>2149</td>\n",
              "      <td>0</td>\n",
              "      <td>30</td>\n",
              "      <td>0</td>\n",
              "    </tr>\n",
              "    <tr>\n",
              "      <th>962</th>\n",
              "      <td>7866</td>\n",
              "      <td>1</td>\n",
              "      <td>29</td>\n",
              "      <td>0</td>\n",
              "    </tr>\n",
              "    <tr>\n",
              "      <th>819</th>\n",
              "      <td>1440</td>\n",
              "      <td>0</td>\n",
              "      <td>29</td>\n",
              "      <td>0</td>\n",
              "    </tr>\n",
              "    <tr>\n",
              "      <th>821</th>\n",
              "      <td>2394</td>\n",
              "      <td>0</td>\n",
              "      <td>18</td>\n",
              "      <td>0</td>\n",
              "    </tr>\n",
              "    <tr>\n",
              "      <th>525</th>\n",
              "      <td>6282</td>\n",
              "      <td>0</td>\n",
              "      <td>28</td>\n",
              "      <td>0</td>\n",
              "    </tr>\n",
              "  </tbody>\n",
              "</table>\n",
              "<p>700 rows × 4 columns</p>\n",
              "</div>\n",
              "      <button class=\"colab-df-convert\" onclick=\"convertToInteractive('df-f3f7b92d-46a4-470c-8ce0-5a3bb3ece9fd')\"\n",
              "              title=\"Convert this dataframe to an interactive table.\"\n",
              "              style=\"display:none;\">\n",
              "        \n",
              "  <svg xmlns=\"http://www.w3.org/2000/svg\" height=\"24px\"viewBox=\"0 0 24 24\"\n",
              "       width=\"24px\">\n",
              "    <path d=\"M0 0h24v24H0V0z\" fill=\"none\"/>\n",
              "    <path d=\"M18.56 5.44l.94 2.06.94-2.06 2.06-.94-2.06-.94-.94-2.06-.94 2.06-2.06.94zm-11 1L8.5 8.5l.94-2.06 2.06-.94-2.06-.94L8.5 2.5l-.94 2.06-2.06.94zm10 10l.94 2.06.94-2.06 2.06-.94-2.06-.94-.94-2.06-.94 2.06-2.06.94z\"/><path d=\"M17.41 7.96l-1.37-1.37c-.4-.4-.92-.59-1.43-.59-.52 0-1.04.2-1.43.59L10.3 9.45l-7.72 7.72c-.78.78-.78 2.05 0 2.83L4 21.41c.39.39.9.59 1.41.59.51 0 1.02-.2 1.41-.59l7.78-7.78 2.81-2.81c.8-.78.8-2.07 0-2.86zM5.41 20L4 18.59l7.72-7.72 1.47 1.35L5.41 20z\"/>\n",
              "  </svg>\n",
              "      </button>\n",
              "      \n",
              "  <style>\n",
              "    .colab-df-container {\n",
              "      display:flex;\n",
              "      flex-wrap:wrap;\n",
              "      gap: 12px;\n",
              "    }\n",
              "\n",
              "    .colab-df-convert {\n",
              "      background-color: #E8F0FE;\n",
              "      border: none;\n",
              "      border-radius: 50%;\n",
              "      cursor: pointer;\n",
              "      display: none;\n",
              "      fill: #1967D2;\n",
              "      height: 32px;\n",
              "      padding: 0 0 0 0;\n",
              "      width: 32px;\n",
              "    }\n",
              "\n",
              "    .colab-df-convert:hover {\n",
              "      background-color: #E2EBFA;\n",
              "      box-shadow: 0px 1px 2px rgba(60, 64, 67, 0.3), 0px 1px 3px 1px rgba(60, 64, 67, 0.15);\n",
              "      fill: #174EA6;\n",
              "    }\n",
              "\n",
              "    [theme=dark] .colab-df-convert {\n",
              "      background-color: #3B4455;\n",
              "      fill: #D2E3FC;\n",
              "    }\n",
              "\n",
              "    [theme=dark] .colab-df-convert:hover {\n",
              "      background-color: #434B5C;\n",
              "      box-shadow: 0px 1px 3px 1px rgba(0, 0, 0, 0.15);\n",
              "      filter: drop-shadow(0px 1px 2px rgba(0, 0, 0, 0.3));\n",
              "      fill: #FFFFFF;\n",
              "    }\n",
              "  </style>\n",
              "\n",
              "      <script>\n",
              "        const buttonEl =\n",
              "          document.querySelector('#df-f3f7b92d-46a4-470c-8ce0-5a3bb3ece9fd button.colab-df-convert');\n",
              "        buttonEl.style.display =\n",
              "          google.colab.kernel.accessAllowed ? 'block' : 'none';\n",
              "\n",
              "        async function convertToInteractive(key) {\n",
              "          const element = document.querySelector('#df-f3f7b92d-46a4-470c-8ce0-5a3bb3ece9fd');\n",
              "          const dataTable =\n",
              "            await google.colab.kernel.invokeFunction('convertToInteractive',\n",
              "                                                     [key], {});\n",
              "          if (!dataTable) return;\n",
              "\n",
              "          const docLinkHtml = 'Like what you see? Visit the ' +\n",
              "            '<a target=\"_blank\" href=https://colab.research.google.com/notebooks/data_table.ipynb>data table notebook</a>'\n",
              "            + ' to learn more about interactive tables.';\n",
              "          element.innerHTML = '';\n",
              "          dataTable['output_type'] = 'display_data';\n",
              "          await google.colab.output.renderOutput(dataTable, element);\n",
              "          const docLink = document.createElement('div');\n",
              "          docLink.innerHTML = docLinkHtml;\n",
              "          element.appendChild(docLink);\n",
              "        }\n",
              "      </script>\n",
              "    </div>\n",
              "  </div>\n",
              "  "
            ],
            "text/plain": [
              "     MonthlyIncome  Male  Age  Purchased\n",
              "369           6082     1   29          0\n",
              "239            927     1   29          0\n",
              "269            644     0   34          1\n",
              "360           4337     0   24          0\n",
              "308            532     1   31          0\n",
              "..             ...   ...  ...        ...\n",
              "449           2149     0   30          0\n",
              "962           7866     1   29          0\n",
              "819           1440     0   29          0\n",
              "821           2394     0   18          0\n",
              "525           6282     0   28          0\n",
              "\n",
              "[700 rows x 4 columns]"
            ]
          },
          "metadata": {},
          "execution_count": 8
        }
      ]
    },
    {
      "cell_type": "code",
      "source": [
        "train_dataset['Purchased'].value_counts()\n",
        "# 69 %\n",
        "# 72 %"
      ],
      "metadata": {
        "id": "SUhfSLsCyela",
        "outputId": "76581d8b-ae2e-4d20-a7c3-059da1a72f70",
        "colab": {
          "base_uri": "https://localhost:8080/"
        }
      },
      "execution_count": 9,
      "outputs": [
        {
          "output_type": "execute_result",
          "data": {
            "text/plain": [
              "0    493\n",
              "1    207\n",
              "Name: Purchased, dtype: int64"
            ]
          },
          "metadata": {},
          "execution_count": 9
        }
      ]
    },
    {
      "cell_type": "markdown",
      "source": [
        "**Explorative Datenanalyse**"
      ],
      "metadata": {
        "id": "WGIxDcUkyOu0"
      }
    },
    {
      "cell_type": "code",
      "source": [
        "train_dataset.groupby(by=['Purchased']).describe().T"
      ],
      "metadata": {
        "id": "IvgfaDf_yO-J",
        "outputId": "e8bb75c6-78ba-4ab8-814f-9271f1c69b22",
        "colab": {
          "base_uri": "https://localhost:8080/",
          "height": 802
        }
      },
      "execution_count": 10,
      "outputs": [
        {
          "output_type": "execute_result",
          "data": {
            "text/html": [
              "\n",
              "  <div id=\"df-c75e21fe-2702-4a25-83b8-035c701491cb\">\n",
              "    <div class=\"colab-df-container\">\n",
              "      <div>\n",
              "<style scoped>\n",
              "    .dataframe tbody tr th:only-of-type {\n",
              "        vertical-align: middle;\n",
              "    }\n",
              "\n",
              "    .dataframe tbody tr th {\n",
              "        vertical-align: top;\n",
              "    }\n",
              "\n",
              "    .dataframe thead th {\n",
              "        text-align: right;\n",
              "    }\n",
              "</style>\n",
              "<table border=\"1\" class=\"dataframe\">\n",
              "  <thead>\n",
              "    <tr style=\"text-align: right;\">\n",
              "      <th></th>\n",
              "      <th>Purchased</th>\n",
              "      <th>0</th>\n",
              "      <th>1</th>\n",
              "    </tr>\n",
              "  </thead>\n",
              "  <tbody>\n",
              "    <tr>\n",
              "      <th rowspan=\"8\" valign=\"top\">MonthlyIncome</th>\n",
              "      <th>count</th>\n",
              "      <td>493.000000</td>\n",
              "      <td>207.000000</td>\n",
              "    </tr>\n",
              "    <tr>\n",
              "      <th>mean</th>\n",
              "      <td>3187.304260</td>\n",
              "      <td>6496.328502</td>\n",
              "    </tr>\n",
              "    <tr>\n",
              "      <th>std</th>\n",
              "      <td>2464.604721</td>\n",
              "      <td>4607.734815</td>\n",
              "    </tr>\n",
              "    <tr>\n",
              "      <th>min</th>\n",
              "      <td>107.000000</td>\n",
              "      <td>482.000000</td>\n",
              "    </tr>\n",
              "    <tr>\n",
              "      <th>25%</th>\n",
              "      <td>1193.000000</td>\n",
              "      <td>2998.000000</td>\n",
              "    </tr>\n",
              "    <tr>\n",
              "      <th>50%</th>\n",
              "      <td>2442.000000</td>\n",
              "      <td>5412.000000</td>\n",
              "    </tr>\n",
              "    <tr>\n",
              "      <th>75%</th>\n",
              "      <td>4694.000000</td>\n",
              "      <td>8703.000000</td>\n",
              "    </tr>\n",
              "    <tr>\n",
              "      <th>max</th>\n",
              "      <td>10426.000000</td>\n",
              "      <td>20450.000000</td>\n",
              "    </tr>\n",
              "    <tr>\n",
              "      <th rowspan=\"8\" valign=\"top\">Male</th>\n",
              "      <th>count</th>\n",
              "      <td>493.000000</td>\n",
              "      <td>207.000000</td>\n",
              "    </tr>\n",
              "    <tr>\n",
              "      <th>mean</th>\n",
              "      <td>0.480730</td>\n",
              "      <td>0.454106</td>\n",
              "    </tr>\n",
              "    <tr>\n",
              "      <th>std</th>\n",
              "      <td>0.500136</td>\n",
              "      <td>0.499096</td>\n",
              "    </tr>\n",
              "    <tr>\n",
              "      <th>min</th>\n",
              "      <td>0.000000</td>\n",
              "      <td>0.000000</td>\n",
              "    </tr>\n",
              "    <tr>\n",
              "      <th>25%</th>\n",
              "      <td>0.000000</td>\n",
              "      <td>0.000000</td>\n",
              "    </tr>\n",
              "    <tr>\n",
              "      <th>50%</th>\n",
              "      <td>0.000000</td>\n",
              "      <td>0.000000</td>\n",
              "    </tr>\n",
              "    <tr>\n",
              "      <th>75%</th>\n",
              "      <td>1.000000</td>\n",
              "      <td>1.000000</td>\n",
              "    </tr>\n",
              "    <tr>\n",
              "      <th>max</th>\n",
              "      <td>1.000000</td>\n",
              "      <td>1.000000</td>\n",
              "    </tr>\n",
              "    <tr>\n",
              "      <th rowspan=\"8\" valign=\"top\">Age</th>\n",
              "      <th>count</th>\n",
              "      <td>493.000000</td>\n",
              "      <td>207.000000</td>\n",
              "    </tr>\n",
              "    <tr>\n",
              "      <th>mean</th>\n",
              "      <td>25.756592</td>\n",
              "      <td>30.028986</td>\n",
              "    </tr>\n",
              "    <tr>\n",
              "      <th>std</th>\n",
              "      <td>5.023682</td>\n",
              "      <td>3.847724</td>\n",
              "    </tr>\n",
              "    <tr>\n",
              "      <th>min</th>\n",
              "      <td>18.000000</td>\n",
              "      <td>23.000000</td>\n",
              "    </tr>\n",
              "    <tr>\n",
              "      <th>25%</th>\n",
              "      <td>21.000000</td>\n",
              "      <td>27.000000</td>\n",
              "    </tr>\n",
              "    <tr>\n",
              "      <th>50%</th>\n",
              "      <td>26.000000</td>\n",
              "      <td>31.000000</td>\n",
              "    </tr>\n",
              "    <tr>\n",
              "      <th>75%</th>\n",
              "      <td>30.000000</td>\n",
              "      <td>34.000000</td>\n",
              "    </tr>\n",
              "    <tr>\n",
              "      <th>max</th>\n",
              "      <td>34.000000</td>\n",
              "      <td>34.000000</td>\n",
              "    </tr>\n",
              "  </tbody>\n",
              "</table>\n",
              "</div>\n",
              "      <button class=\"colab-df-convert\" onclick=\"convertToInteractive('df-c75e21fe-2702-4a25-83b8-035c701491cb')\"\n",
              "              title=\"Convert this dataframe to an interactive table.\"\n",
              "              style=\"display:none;\">\n",
              "        \n",
              "  <svg xmlns=\"http://www.w3.org/2000/svg\" height=\"24px\"viewBox=\"0 0 24 24\"\n",
              "       width=\"24px\">\n",
              "    <path d=\"M0 0h24v24H0V0z\" fill=\"none\"/>\n",
              "    <path d=\"M18.56 5.44l.94 2.06.94-2.06 2.06-.94-2.06-.94-.94-2.06-.94 2.06-2.06.94zm-11 1L8.5 8.5l.94-2.06 2.06-.94-2.06-.94L8.5 2.5l-.94 2.06-2.06.94zm10 10l.94 2.06.94-2.06 2.06-.94-2.06-.94-.94-2.06-.94 2.06-2.06.94z\"/><path d=\"M17.41 7.96l-1.37-1.37c-.4-.4-.92-.59-1.43-.59-.52 0-1.04.2-1.43.59L10.3 9.45l-7.72 7.72c-.78.78-.78 2.05 0 2.83L4 21.41c.39.39.9.59 1.41.59.51 0 1.02-.2 1.41-.59l7.78-7.78 2.81-2.81c.8-.78.8-2.07 0-2.86zM5.41 20L4 18.59l7.72-7.72 1.47 1.35L5.41 20z\"/>\n",
              "  </svg>\n",
              "      </button>\n",
              "      \n",
              "  <style>\n",
              "    .colab-df-container {\n",
              "      display:flex;\n",
              "      flex-wrap:wrap;\n",
              "      gap: 12px;\n",
              "    }\n",
              "\n",
              "    .colab-df-convert {\n",
              "      background-color: #E8F0FE;\n",
              "      border: none;\n",
              "      border-radius: 50%;\n",
              "      cursor: pointer;\n",
              "      display: none;\n",
              "      fill: #1967D2;\n",
              "      height: 32px;\n",
              "      padding: 0 0 0 0;\n",
              "      width: 32px;\n",
              "    }\n",
              "\n",
              "    .colab-df-convert:hover {\n",
              "      background-color: #E2EBFA;\n",
              "      box-shadow: 0px 1px 2px rgba(60, 64, 67, 0.3), 0px 1px 3px 1px rgba(60, 64, 67, 0.15);\n",
              "      fill: #174EA6;\n",
              "    }\n",
              "\n",
              "    [theme=dark] .colab-df-convert {\n",
              "      background-color: #3B4455;\n",
              "      fill: #D2E3FC;\n",
              "    }\n",
              "\n",
              "    [theme=dark] .colab-df-convert:hover {\n",
              "      background-color: #434B5C;\n",
              "      box-shadow: 0px 1px 3px 1px rgba(0, 0, 0, 0.15);\n",
              "      filter: drop-shadow(0px 1px 2px rgba(0, 0, 0, 0.3));\n",
              "      fill: #FFFFFF;\n",
              "    }\n",
              "  </style>\n",
              "\n",
              "      <script>\n",
              "        const buttonEl =\n",
              "          document.querySelector('#df-c75e21fe-2702-4a25-83b8-035c701491cb button.colab-df-convert');\n",
              "        buttonEl.style.display =\n",
              "          google.colab.kernel.accessAllowed ? 'block' : 'none';\n",
              "\n",
              "        async function convertToInteractive(key) {\n",
              "          const element = document.querySelector('#df-c75e21fe-2702-4a25-83b8-035c701491cb');\n",
              "          const dataTable =\n",
              "            await google.colab.kernel.invokeFunction('convertToInteractive',\n",
              "                                                     [key], {});\n",
              "          if (!dataTable) return;\n",
              "\n",
              "          const docLinkHtml = 'Like what you see? Visit the ' +\n",
              "            '<a target=\"_blank\" href=https://colab.research.google.com/notebooks/data_table.ipynb>data table notebook</a>'\n",
              "            + ' to learn more about interactive tables.';\n",
              "          element.innerHTML = '';\n",
              "          dataTable['output_type'] = 'display_data';\n",
              "          await google.colab.output.renderOutput(dataTable, element);\n",
              "          const docLink = document.createElement('div');\n",
              "          docLink.innerHTML = docLinkHtml;\n",
              "          element.appendChild(docLink);\n",
              "        }\n",
              "      </script>\n",
              "    </div>\n",
              "  </div>\n",
              "  "
            ],
            "text/plain": [
              "Purchased                       0             1\n",
              "MonthlyIncome count    493.000000    207.000000\n",
              "              mean    3187.304260   6496.328502\n",
              "              std     2464.604721   4607.734815\n",
              "              min      107.000000    482.000000\n",
              "              25%     1193.000000   2998.000000\n",
              "              50%     2442.000000   5412.000000\n",
              "              75%     4694.000000   8703.000000\n",
              "              max    10426.000000  20450.000000\n",
              "Male          count    493.000000    207.000000\n",
              "              mean       0.480730      0.454106\n",
              "              std        0.500136      0.499096\n",
              "              min        0.000000      0.000000\n",
              "              25%        0.000000      0.000000\n",
              "              50%        0.000000      0.000000\n",
              "              75%        1.000000      1.000000\n",
              "              max        1.000000      1.000000\n",
              "Age           count    493.000000    207.000000\n",
              "              mean      25.756592     30.028986\n",
              "              std        5.023682      3.847724\n",
              "              min       18.000000     23.000000\n",
              "              25%       21.000000     27.000000\n",
              "              50%       26.000000     31.000000\n",
              "              75%       30.000000     34.000000\n",
              "              max       34.000000     34.000000"
            ]
          },
          "metadata": {},
          "execution_count": 10
        }
      ]
    },
    {
      "cell_type": "markdown",
      "source": [
        "Käufer sind durchschnittlich 30 Jahre alt und verdienen monatlich etwa 3309€ mehr als Nicht-Käufer. "
      ],
      "metadata": {
        "id": "xKIoZ-Mr0T_R"
      }
    },
    {
      "cell_type": "markdown",
      "source": [
        "**Pairplot um die Zusammenhänge zwischen den einzelnen Features zu untersuchen**"
      ],
      "metadata": {
        "id": "azioOTCD1Mfm"
      }
    },
    {
      "cell_type": "code",
      "source": [
        "sns.pairplot(hue='Purchased', kind=\"reg\", diag_kind=\"kde\", data=train_dataset);"
      ],
      "metadata": {
        "id": "V36qnKM61L_-",
        "outputId": "0fe59cdd-dd22-4d4f-f696-bc7107d5b59b",
        "colab": {
          "base_uri": "https://localhost:8080/",
          "height": 550
        }
      },
      "execution_count": 11,
      "outputs": [
        {
          "output_type": "display_data",
          "data": {
            "image/png": "[encoded data removed]",
            "text/plain": [
              "<Figure size 599.875x540 with 12 Axes>"
            ]
          },
          "metadata": {
            "needs_background": "light"
          }
        }
      ]
    },
    {
      "cell_type": "markdown",
      "source": [
        "**Berechnung der Korrelationskoeffizienten nach Pearson**"
      ],
      "metadata": {
        "id": "pUyaSXCq3WWs"
      }
    },
    {
      "cell_type": "code",
      "source": [
        "corr = train_dataset.corr()\n",
        "# optimize aesthetics: generate mask for removing duplicate / unnecessary info\n",
        "mask = np.zeros_like(corr, dtype=bool)\n",
        "mask[np.triu_indices_from(mask)] = True\n",
        "# Generate a custom diverging colormap as indicator for correlations:\n",
        "cmap = sns.diverging_palette(220, 10, as_cmap=True)\n",
        "# Plot\n",
        "sns.heatmap(corr, mask=mask, cmap=cmap, annot=True, square=True, annot_kws={\"size\": 12});"
      ],
      "metadata": {
        "id": "dj3mUySd3Wo9",
        "outputId": "dd5d9177-cd41-4376-ab8d-e1c08b79cb18",
        "colab": {
          "base_uri": "https://localhost:8080/",
          "height": 276
        }
      },
      "execution_count": 12,
      "outputs": [
        {
          "output_type": "display_data",
          "data": {
            "image/png": "[encoded data removed]",
            "text/plain": [
              "<Figure size 432x288 with 2 Axes>"
            ]
          },
          "metadata": {
            "needs_background": "light"
          }
        }
      ]
    },
    {
      "cell_type": "markdown",
      "source": [
        "**Erstellen eines KDE-Plots zur Visualisierung des Zusammenhangs zwischen dem  Alter und ob es sich um Käufer oder Nicht-Käufer handelt.**"
      ],
      "metadata": {
        "id": "OwGvLZUpEOG4"
      }
    },
    {
      "cell_type": "code",
      "source": [
        "sns.kdeplot(hue=\"Purchased\", x='Age', data=train_dataset);"
      ],
      "metadata": {
        "id": "6MYJlGvQENnI",
        "outputId": "751cf755-dcc0-4934-e287-337c2dc3e92d",
        "colab": {
          "base_uri": "https://localhost:8080/",
          "height": 279
        }
      },
      "execution_count": 13,
      "outputs": [
        {
          "output_type": "display_data",
          "data": {
            "image/png": "[encoded data removed]",
            "text/plain": [
              "<Figure size 432x288 with 1 Axes>"
            ]
          },
          "metadata": {
            "needs_background": "light"
          }
        }
      ]
    },
    {
      "cell_type": "markdown",
      "source": [
        "Die Käufer sind durchschnittlich älter als die Nicht-Käufer."
      ],
      "metadata": {
        "id": "2jMNRJ_UEqpr"
      }
    },
    {
      "cell_type": "markdown",
      "source": [
        "**Erstellen eines Boxplots zur Visualisierung des Zusammenhangs zwischen dem  Alter, dem Geschlecht und ob es sich um Käufer oder Nicht-Käufer handelt.**"
      ],
      "metadata": {
        "id": "o5VLU1CyFheU"
      }
    },
    {
      "cell_type": "code",
      "source": [
        "sns.boxplot(x=\"Male\", y=\"Age\", hue=\"Purchased\", data=train_dataset);"
      ],
      "metadata": {
        "id": "h27c9GG_Faiq",
        "outputId": "18fc67d6-27f1-4034-9673-c0548c976338",
        "colab": {
          "base_uri": "https://localhost:8080/",
          "height": 279
        }
      },
      "execution_count": 14,
      "outputs": [
        {
          "output_type": "display_data",
          "data": {
            "image/png": "[encoded data removed]",
            "text/plain": [
              "<Figure size 432x288 with 1 Axes>"
            ]
          },
          "metadata": {
            "needs_background": "light"
          }
        }
      ]
    },
    {
      "cell_type": "markdown",
      "source": [
        "Männliche Käufer sind durchschnittlich älter als weibliche, dafür sind männliche Nicht-Käufer im Durchschnitt jünger als weibliche Nicht-Käufer.\n",
        "\n",
        "Während das Alter der Käufer bei 23 Jahren beginnt, verteilen sich die Nicht-Käufer auf die volle Zielgruppenspanne von 18-34 Jahren."
      ],
      "metadata": {
        "id": "3o-xvXXyFwiR"
      }
    },
    {
      "cell_type": "markdown",
      "source": [
        "**Erstellen eines KDE-Plots zur Visualisierung des Zusammenhangs zwischen dem monatlichen Einkommen und ob es sich um Käufer oder Nicht-Käufer handelt.**"
      ],
      "metadata": {
        "id": "OvSTuBkQHjb9"
      }
    },
    {
      "cell_type": "code",
      "source": [
        "sns.kdeplot(hue=\"Purchased\", x='MonthlyIncome', data=train_dataset); "
      ],
      "metadata": {
        "id": "MnXKHa30Hjw2",
        "outputId": "b8c0da27-c211-4ddd-b2c3-093e339928ca",
        "colab": {
          "base_uri": "https://localhost:8080/",
          "height": 279
        }
      },
      "execution_count": 15,
      "outputs": [
        {
          "output_type": "display_data",
          "data": {
            "image/png": "[encoded data removed]",
            "text/plain": [
              "<Figure size 432x288 with 1 Axes>"
            ]
          },
          "metadata": {
            "needs_background": "light"
          }
        }
      ]
    },
    {
      "cell_type": "markdown",
      "source": [
        "Das monatliche Einkommen der Käufer ist durchschnittlich höher, als das der Nicht-Käufer und erstreckt sich über eine weitere Einkommensspanne. Die Nicht-Käufer dagegen weisen bei etwa 2000€ eine sehr hohe Dichte auf.\n",
        "\n",
        "Das höchste Einkommen der Käufer liegt bei etwas mehr als 20000€ wohingegen das höchste Einkommen der Nicht-Käufer bei etwa 10000€ liegt."
      ],
      "metadata": {
        "id": "XFtPgCwPIJ_-"
      }
    },
    {
      "cell_type": "markdown",
      "source": [
        "**Erstellen eines Boxplots zur Visualisierung des Zusammenhangs zwischen dem Einkommen, dem Geschlecht und ob es sich um Käufer oder Nicht-Käufer handelt.**"
      ],
      "metadata": {
        "id": "g0Fy93MQJ5eN"
      }
    },
    {
      "cell_type": "code",
      "source": [
        "sns.boxplot(x=\"Male\", y=\"MonthlyIncome\", hue=\"Purchased\", data=train_dataset);"
      ],
      "metadata": {
        "id": "lDrEmIQwJ5Ga",
        "outputId": "4e0d41e3-f6bd-49b6-c795-b36ed1e53def",
        "colab": {
          "base_uri": "https://localhost:8080/",
          "height": 279
        }
      },
      "execution_count": 16,
      "outputs": [
        {
          "output_type": "display_data",
          "data": {
            "image/png": "[encoded data removed]",
            "text/plain": [
              "<Figure size 432x288 with 1 Axes>"
            ]
          },
          "metadata": {
            "needs_background": "light"
          }
        }
      ]
    },
    {
      "cell_type": "markdown",
      "source": [
        "Beim Gehalt der Käufer gibt es mehr Ausreißer nach oben. Zusätzlich haben die weiblichen Käufer ein durchschnittlich höheres Einkommen als die männlichen Käufer. Bei den Nicht-Käufern gibt es außerdem keinen großen Unterschied zwischen den zwei Geschlechtern."
      ],
      "metadata": {
        "id": "-BwLyORDKyaN"
      }
    },
    {
      "cell_type": "markdown",
      "source": [
        "# Model (Logistic Regression-Algorithmus)\n",
        "\n"
      ],
      "metadata": {
        "id": "BhnU8lZwL1b0"
      }
    },
    {
      "cell_type": "markdown",
      "source": [
        "Wir beschränken uns auf das Alter und das monatliche Einkommen, da nur diese beiden Features relevant für unser Model sind."
      ],
      "metadata": {
        "id": "5PsYCzbYPdYF"
      }
    },
    {
      "cell_type": "code",
      "source": [
        "features_model = ['Age','MonthlyIncome'] \n",
        "\n",
        "X_train = X_train[features_model] \n",
        "X_test = X_test[features_model]"
      ],
      "metadata": {
        "id": "JWVv9ja3L10G"
      },
      "execution_count": 17,
      "outputs": []
    },
    {
      "cell_type": "code",
      "source": [
        "clf = skl_lm.LogisticRegressionCV(penalty='l2')\n",
        "y_pred = clf.fit(X_train, y_train).predict(X_test)"
      ],
      "metadata": {
        "id": "baUwAfTqPtmW"
      },
      "execution_count": 18,
      "outputs": []
    },
    {
      "cell_type": "code",
      "source": [
        "clf.score(X_test, y_test)"
      ],
      "metadata": {
        "id": "6jgNzk_eTixg",
        "outputId": "2645da53-cafd-4ade-a6b7-b72a2aebd8da",
        "colab": {
          "base_uri": "https://localhost:8080/"
        }
      },
      "execution_count": 19,
      "outputs": [
        {
          "output_type": "execute_result",
          "data": {
            "text/plain": [
              "0.7766666666666666"
            ]
          },
          "metadata": {},
          "execution_count": 19
        }
      ]
    },
    {
      "cell_type": "markdown",
      "source": [
        "**Klassifikationsmetriken**"
      ],
      "metadata": {
        "id": "P1fDwBvvnAp0"
      }
    },
    {
      "cell_type": "code",
      "source": [
        "cm = confusion_matrix(y_test, y_pred)\n",
        "\n",
        "disp = ConfusionMatrixDisplay(confusion_matrix=cm, display_labels=['NotPurchased', 'Purchased'])\n",
        "disp.plot()\n",
        "plt.show()"
      ],
      "metadata": {
        "id": "KOTFeysSTrRq",
        "outputId": "66c48ae9-7fbf-4cb0-db82-fc9d42bcaef5",
        "colab": {
          "base_uri": "https://localhost:8080/",
          "height": 279
        }
      },
      "execution_count": 20,
      "outputs": [
        {
          "output_type": "display_data",
          "data": {
            "image/png": "[encoded data removed]",
            "text/plain": [
              "<Figure size 432x288 with 2 Axes>"
            ]
          },
          "metadata": {
            "needs_background": "light"
          }
        }
      ]
    },
    {
      "cell_type": "code",
      "source": [
        "print(classification_report(y_test, y_pred, target_names=['NotPurchased', 'Purchased']))"
      ],
      "metadata": {
        "id": "UHuk5O0oT0ZZ",
        "outputId": "be0d559f-71a6-417a-ae30-b0962ea88978",
        "colab": {
          "base_uri": "https://localhost:8080/"
        }
      },
      "execution_count": 22,
      "outputs": [
        {
          "output_type": "stream",
          "name": "stdout",
          "text": [
            "              precision    recall  f1-score   support\n",
            "\n",
            "NotPurchased       0.81      0.90      0.85       218\n",
            "   Purchased       0.63      0.45      0.52        82\n",
            "\n",
            "    accuracy                           0.78       300\n",
            "   macro avg       0.72      0.68      0.69       300\n",
            "weighted avg       0.76      0.78      0.76       300\n",
            "\n"
          ]
        }
      ]
    },
    {
      "cell_type": "markdown",
      "source": [
        "Nicht-Käufer(negativ) als Käufer nicht so schlimm, weil er sowieso nichts gekauft hätte.\n",
        "\n",
        "Käufer(positiv) als Nicht-Käufer schlecht, weil wir möglicherweise einen Käufer verlieren.\n",
        "\n"
      ],
      "metadata": {
        "id": "LLBzUgmgeQLQ"
      }
    },
    {
      "cell_type": "markdown",
      "source": [
        "**Threshold 0.4**"
      ],
      "metadata": {
        "id": "cQF7ag9gngzl"
      }
    },
    {
      "cell_type": "code",
      "source": [
        "pred_proba = clf.predict_proba(X_test)"
      ],
      "metadata": {
        "id": "2T0ThQpQYmJK"
      },
      "execution_count": 45,
      "outputs": []
    },
    {
      "cell_type": "code",
      "source": [
        "df_ = pd.DataFrame({'y_test': y_test, 'y_pred': pred_proba[:,1] > .4})\n",
        "cm = confusion_matrix(y_test, df_['y_pred'])\n",
        "\n",
        "disp = ConfusionMatrixDisplay(confusion_matrix=cm,\n",
        "                              display_labels=clf.classes_)\n",
        "disp.plot()\n",
        "plt.show()"
      ],
      "metadata": {
        "id": "CI5KsFaPYfyu",
        "outputId": "21172139-359f-4ffe-f727-659d830bc7ee",
        "colab": {
          "base_uri": "https://localhost:8080/",
          "height": 280
        }
      },
      "execution_count": 46,
      "outputs": [
        {
          "output_type": "display_data",
          "data": {
            "image/png": "[encoded data removed]",
            "text/plain": [
              "<Figure size 432x288 with 2 Axes>"
            ]
          },
          "metadata": {
            "needs_background": "light"
          }
        }
      ]
    },
    {
      "cell_type": "code",
      "source": [
        "print(classification_report(y_test, df_['y_pred']))"
      ],
      "metadata": {
        "id": "7WrJvraWtOPc",
        "outputId": "6c6ce54a-894e-4ff2-d9e7-138445eed055",
        "colab": {
          "base_uri": "https://localhost:8080/"
        }
      },
      "execution_count": 47,
      "outputs": [
        {
          "output_type": "stream",
          "name": "stdout",
          "text": [
            "              precision    recall  f1-score   support\n",
            "\n",
            "           0       0.85      0.83      0.84       218\n",
            "           1       0.59      0.62      0.60        82\n",
            "\n",
            "    accuracy                           0.78       300\n",
            "   macro avg       0.72      0.73      0.72       300\n",
            "weighted avg       0.78      0.78      0.78       300\n",
            "\n"
          ]
        }
      ]
    },
    {
      "cell_type": "markdown",
      "source": [
        "**Threshold 0.05**"
      ],
      "metadata": {
        "id": "-TTWcFZ3od9X"
      }
    },
    {
      "cell_type": "code",
      "source": [
        "pred_proba = clf.predict_proba(X_test)"
      ],
      "metadata": {
        "id": "MXHSLYTuoyQH"
      },
      "execution_count": 42,
      "outputs": []
    },
    {
      "cell_type": "code",
      "source": [
        "df_ = pd.DataFrame({'y_test': y_test, 'y_pred': pred_proba[:,1] > .05})\n",
        "cm = confusion_matrix(y_test, df_['y_pred'])\n",
        "\n",
        "disp = ConfusionMatrixDisplay(confusion_matrix=cm,\n",
        "                              display_labels=clf.classes_)\n",
        "disp.plot()\n",
        "plt.show()"
      ],
      "metadata": {
        "id": "8I4RyeyCoyZR",
        "outputId": "202b2681-2e5a-45fd-f24c-ddcc7ede53cd",
        "colab": {
          "base_uri": "https://localhost:8080/",
          "height": 279
        }
      },
      "execution_count": 43,
      "outputs": [
        {
          "output_type": "display_data",
          "data": {
            "image/png": "[encoded data removed]",
            "text/plain": [
              "<Figure size 432x288 with 2 Axes>"
            ]
          },
          "metadata": {
            "needs_background": "light"
          }
        }
      ]
    },
    {
      "cell_type": "code",
      "source": [
        "print(classification_report(y_test, df_['y_pred']))"
      ],
      "metadata": {
        "id": "ZrsGzspdtCuO",
        "outputId": "db2b9212-6d9c-4f3a-f1ea-5c82c8c04ea1",
        "colab": {
          "base_uri": "https://localhost:8080/"
        }
      },
      "execution_count": 44,
      "outputs": [
        {
          "output_type": "stream",
          "name": "stdout",
          "text": [
            "              precision    recall  f1-score   support\n",
            "\n",
            "           0       1.00      0.20      0.33       218\n",
            "           1       0.32      1.00      0.48        82\n",
            "\n",
            "    accuracy                           0.42       300\n",
            "   macro avg       0.66      0.60      0.41       300\n",
            "weighted avg       0.81      0.42      0.37       300\n",
            "\n"
          ]
        }
      ]
    },
    {
      "cell_type": "markdown",
      "source": [
        "**Threshold 0.6**"
      ],
      "metadata": {
        "id": "n1m12foqn02q"
      }
    },
    {
      "cell_type": "code",
      "source": [
        "df_ = pd.DataFrame({'y_test': y_test, 'y_pred': pred_proba[:,1] > .6})\n",
        "cm = confusion_matrix(y_test, df_['y_pred'])\n",
        "\n",
        "disp = ConfusionMatrixDisplay(confusion_matrix=cm,\n",
        "                              display_labels=clf.classes_)\n",
        "disp.plot()\n",
        "plt.show()\n",
        "\n",
        "print(classification_report(y_test, df_['y_pred']))"
      ],
      "metadata": {
        "id": "KqYva2D4n5Ov",
        "outputId": "4290c469-4a80-41d0-9eb2-658ef5e739d7",
        "colab": {
          "base_uri": "https://localhost:8080/",
          "height": 444
        }
      },
      "execution_count": null,
      "outputs": [
        {
          "output_type": "display_data",
          "data": {
            "image/png": "[encoded data removed]",
            "text/plain": [
              "<Figure size 432x288 with 2 Axes>"
            ]
          },
          "metadata": {
            "needs_background": "light"
          }
        },
        {
          "output_type": "stream",
          "name": "stdout",
          "text": [
            "              precision    recall  f1-score   support\n",
            "\n",
            "           0       0.80      0.94      0.87       218\n",
            "           1       0.72      0.38      0.50        82\n",
            "\n",
            "    accuracy                           0.79       300\n",
            "   macro avg       0.76      0.66      0.68       300\n",
            "weighted avg       0.78      0.79      0.77       300\n",
            "\n"
          ]
        }
      ]
    },
    {
      "cell_type": "markdown",
      "source": [
        "**Threshold 0.7**"
      ],
      "metadata": {
        "id": "EJ9VI2NspQ4d"
      }
    },
    {
      "cell_type": "code",
      "source": [
        "df_ = pd.DataFrame({'y_test': y_test, 'y_pred': pred_proba[:,1] > .7})\n",
        "cm = confusion_matrix(y_test, df_['y_pred'])\n",
        "\n",
        "disp = ConfusionMatrixDisplay(confusion_matrix=cm,\n",
        "                              display_labels=clf.classes_)\n",
        "disp.plot()\n",
        "plt.show()\n",
        "\n",
        "print(classification_report(y_test, df_['y_pred']))"
      ],
      "metadata": {
        "id": "21c_ORTupREr",
        "outputId": "226f29d1-82b6-452a-9f8a-6e11639833c0",
        "colab": {
          "base_uri": "https://localhost:8080/",
          "height": 444
        }
      },
      "execution_count": null,
      "outputs": [
        {
          "output_type": "display_data",
          "data": {
            "image/png": "[encoded data removed]",
            "text/plain": [
              "<Figure size 432x288 with 2 Axes>"
            ]
          },
          "metadata": {
            "needs_background": "light"
          }
        },
        {
          "output_type": "stream",
          "name": "stdout",
          "text": [
            "              precision    recall  f1-score   support\n",
            "\n",
            "           0       0.79      0.97      0.87       218\n",
            "           1       0.78      0.30      0.44        82\n",
            "\n",
            "    accuracy                           0.79       300\n",
            "   macro avg       0.78      0.64      0.65       300\n",
            "weighted avg       0.79      0.79      0.75       300\n",
            "\n"
          ]
        }
      ]
    },
    {
      "cell_type": "markdown",
      "source": [
        "**Threshold 0.8**"
      ],
      "metadata": {
        "id": "VWknX6WNonGL"
      }
    },
    {
      "cell_type": "code",
      "source": [
        "df_ = pd.DataFrame({'y_test': y_test, 'y_pred': pred_proba[:,1] > .8})\n",
        "cm = confusion_matrix(y_test, df_['y_pred'])\n",
        "\n",
        "disp = ConfusionMatrixDisplay(confusion_matrix=cm,\n",
        "                              display_labels=clf.classes_)\n",
        "disp.plot()\n",
        "plt.show()\n",
        "\n",
        "print(classification_report(y_test, df_['y_pred']))"
      ],
      "metadata": {
        "id": "CXouEqeSonQ-",
        "outputId": "3a8a759f-423b-43ca-ee8e-c3bfdfec6496",
        "colab": {
          "base_uri": "https://localhost:8080/",
          "height": 444
        }
      },
      "execution_count": null,
      "outputs": [
        {
          "output_type": "display_data",
          "data": {
            "image/png": "[encoded data removed]",
            "text/plain": [
              "<Figure size 432x288 with 2 Axes>"
            ]
          },
          "metadata": {
            "needs_background": "light"
          }
        },
        {
          "output_type": "stream",
          "name": "stdout",
          "text": [
            "              precision    recall  f1-score   support\n",
            "\n",
            "           0       0.78      0.99      0.87       218\n",
            "           1       0.91      0.24      0.38        82\n",
            "\n",
            "    accuracy                           0.79       300\n",
            "   macro avg       0.84      0.62      0.63       300\n",
            "weighted avg       0.81      0.79      0.74       300\n",
            "\n"
          ]
        }
      ]
    }
  ]
}