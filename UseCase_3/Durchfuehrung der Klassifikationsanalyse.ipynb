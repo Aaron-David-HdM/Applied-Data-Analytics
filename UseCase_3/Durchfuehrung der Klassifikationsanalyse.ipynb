{
  "nbformat": 4,
  "nbformat_minor": 0,
  "metadata": {
    "colab": {
      "name": "Untitled8.ipynb",
      "provenance": [],
      "authorship_tag": "ABX9TyNzdK5ENivMD6rvQlvAgrxF",
      "include_colab_link": true
    },
    "kernelspec": {
      "name": "python3",
      "display_name": "Python 3"
    },
    "language_info": {
      "name": "python"
    }
  },
  "cells": [
    {
      "cell_type": "markdown",
      "metadata": {
        "id": "view-in-github",
        "colab_type": "text"
      },
      "source": [
        "<a href=\"https://colab.research.google.com/github/Aaron-David-HdM/Applied-Data-Analytics/blob/main/Durchfuehrung%20der%20Klassifikationsanalyse.ipynb\" target=\"_parent\"><img src=\"https://colab.research.google.com/assets/colab-badge.svg\" alt=\"Open In Colab\"/></a>"
      ]
    },
    {
      "cell_type": "markdown",
      "source": [
        "\n",
        "**Git-Repository klonen sowie pullen**"
      ],
      "metadata": {
        "id": "RbQ-dYAWsBFI"
      }
    },
    {
      "cell_type": "code",
      "execution_count": 15,
      "metadata": {
        "colab": {
          "base_uri": "https://localhost:8080/"
        },
        "id": "TCa5T6Fzr5xK",
        "outputId": "6b34c633-b9fb-4874-84e4-e6367f21301c"
      },
      "outputs": [
        {
          "output_type": "stream",
          "name": "stdout",
          "text": [
            "Cloning into 'Applied-Data-Analytics'...\n",
            "remote: Enumerating objects: 445, done.\u001b[K\n",
            "remote: Counting objects: 100% (286/286), done.\u001b[K\n",
            "remote: Compressing objects: 100% (272/272), done.\u001b[K\n",
            "remote: Total 445 (delta 114), reused 0 (delta 0), pack-reused 159\u001b[K\n",
            "Receiving objects: 100% (445/445), 2.93 MiB | 10.03 MiB/s, done.\n",
            "Resolving deltas: 100% (171/171), done.\n"
          ]
        }
      ],
      "source": [
        "!git clone https://github.com/Aaron-David-HdM/Applied-Data-Analytics.git"
      ]
    },
    {
      "cell_type": "markdown",
      "source": [
        "**Zu dem UseCase_3-Pfad wechseln**"
      ],
      "metadata": {
        "id": "-K6jg4VGsGBv"
      }
    },
    {
      "cell_type": "code",
      "source": [
        "%cd /content/Applied-Data-Analytics/UseCase_3"
      ],
      "metadata": {
        "colab": {
          "base_uri": "https://localhost:8080/"
        },
        "id": "fPZ1xAo7sP91",
        "outputId": "07e750da-559b-45c5-ef12-96117b3f7e6a"
      },
      "execution_count": 16,
      "outputs": [
        {
          "output_type": "stream",
          "name": "stdout",
          "text": [
            "/content/Applied-Data-Analytics/UseCase_3\n"
          ]
        }
      ]
    },
    {
      "cell_type": "markdown",
      "source": [
        "**Importieren von benötigten Bibliotheken sowie Lesen der CSV-Datei**"
      ],
      "metadata": {
        "id": "wTtl9UAUsRRu"
      }
    },
    {
      "cell_type": "code",
      "source": [
        "import pandas as pd\n",
        "import numpy as np\n",
        "\n",
        "filepath = 'Einkommen_und_Verkaeufe.csv' # Bereinigte Daten für UseCase_3\n",
        "df = pd.read_csv(filepath, decimal='.')"
      ],
      "metadata": {
        "id": "rmbyziqIsMnm"
      },
      "execution_count": 17,
      "outputs": []
    },
    {
      "cell_type": "markdown",
      "source": [
        "**Nicht benötigte 'Unnamed'-Spalte entfernt**"
      ],
      "metadata": {
        "id": "n0SaX92rs1P9"
      }
    },
    {
      "cell_type": "code",
      "source": [
        "df.drop(columns= ['Unnamed: 0'], inplace = True)"
      ],
      "metadata": {
        "id": "w6sLLs3os1pO"
      },
      "execution_count": 18,
      "outputs": []
    },
    {
      "cell_type": "markdown",
      "source": [
        ""
      ],
      "metadata": {
        "id": "uIl48tS6tPJ3"
      }
    },
    {
      "cell_type": "code",
      "source": [
        "df['Purchased'].value_counts()"
      ],
      "metadata": {
        "colab": {
          "base_uri": "https://localhost:8080/"
        },
        "id": "PzAplYHZtPa5",
        "outputId": "2f87a394-3eae-4a03-aa8a-0dc9b8215d35"
      },
      "execution_count": 19,
      "outputs": [
        {
          "output_type": "execute_result",
          "data": {
            "text/plain": [
              "1    690\n",
              "0    310\n",
              "Name: Purchased, dtype: int64"
            ]
          },
          "metadata": {},
          "execution_count": 19
        }
      ]
    }
  ]
}
