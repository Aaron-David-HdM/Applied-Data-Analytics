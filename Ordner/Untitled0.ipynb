{
  "nbformat": 4,
  "nbformat_minor": 0,
  "metadata": {
    "colab": {
      "name": "Untitled0.ipynb",
      "provenance": [],
      "collapsed_sections": []
    },
    "kernelspec": {
      "name": "python3",
      "display_name": "Python 3"
    },
    "language_info": {
      "name": "python"
    }
  },
  "cells": [
    {
      "cell_type": "code",
      "metadata": {
        "id": "3gC3SBsLL2AF",
        "outputId": "5b499faf-05ae-45f4-e511-ffd905accc6a",
        "colab": {
          "base_uri": "https://localhost:8080/"
        }
      },
      "source": [
        "ls\n"
      ],
      "execution_count": 9,
      "outputs": [
        {
          "output_type": "stream",
          "name": "stdout",
          "text": [
            "\u001b[0m\u001b[01;34mApplied-Data-Analytics\u001b[0m/  \u001b[01;34msample_data\u001b[0m/\n"
          ]
        }
      ]
    },
    {
      "cell_type": "code",
      "metadata": {
        "id": "NfMwrAwz6Kqd",
        "colab": {
          "base_uri": "https://localhost:8080/"
        },
        "outputId": "483918bb-707f-45ec-bc8a-07ef6b193c14"
      },
      "source": [
        "!git clone https://github.com/Aaron-David-HdM/Applied-Data-Analytics.git"
      ],
      "execution_count": 6,
      "outputs": [
        {
          "output_type": "stream",
          "name": "stdout",
          "text": [
            "Cloning into 'Applied-Data-Analytics'...\n",
            "remote: Enumerating objects: 36, done.\u001b[K\n",
            "remote: Counting objects: 100% (36/36), done.\u001b[K\n",
            "remote: Compressing objects: 100% (26/26), done.\u001b[K\n",
            "remote: Total 36 (delta 7), reused 0 (delta 0), pack-reused 0\u001b[K\n",
            "Unpacking objects: 100% (36/36), done.\n"
          ]
        }
      ]
    },
    {
      "cell_type": "code",
      "metadata": {
        "id": "VUsBYa3bLySL"
      },
      "source": [
        "import csv\n",
        "\n",
        "with open('Applied-Data-Analytics/Ordner/Zielgruppenuebersicht_August2021.csv', newline='') as csvfile:\n",
        "  spamreader = csv.reader(csvfile, delimiter=' ', quotechar='|')"
      ],
      "execution_count": 12,
      "outputs": []
    }
  ]
}