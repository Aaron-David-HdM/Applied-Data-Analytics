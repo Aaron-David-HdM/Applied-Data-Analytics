{
  "nbformat": 4,
  "nbformat_minor": 0,
  "metadata": {
    "colab": {
      "name": "Untitled4.ipynb",
      "provenance": [],
      "authorship_tag": "ABX9TyNq1yVF8ZkreD+YuaF/voli",
      "include_colab_link": true
    },
    "kernelspec": {
      "name": "python3",
      "display_name": "Python 3"
    },
    "language_info": {
      "name": "python"
    }
  },
  "cells": [
    {
      "cell_type": "markdown",
      "metadata": {
        "id": "view-in-github",
        "colab_type": "text"
      },
      "source": [
        "<a href=\"https://colab.research.google.com/github/Aaron-David-HdM/Applied-Data-Analytics/blob/main/Durchf%C3%BChrung_A_B-Test.ipynb\" target=\"_parent\"><img src=\"https://colab.research.google.com/assets/colab-badge.svg\" alt=\"Open In Colab\"/></a>"
      ]
    },
    {
      "cell_type": "code",
      "execution_count": 1,
      "metadata": {
        "colab": {
          "base_uri": "https://localhost:8080/"
        },
        "id": "2DNeEgQlAetK",
        "outputId": "be38a46c-e16c-48ed-da2f-65739318cdfc"
      },
      "outputs": [
        {
          "output_type": "stream",
          "name": "stdout",
          "text": [
            "Cloning into 'Applied-Data-Analytics'...\n",
            "remote: Enumerating objects: 195, done.\u001b[K\n",
            "remote: Counting objects: 100% (36/36), done.\u001b[K\n",
            "remote: Compressing objects: 100% (26/26), done.\u001b[K\n",
            "remote: Total 195 (delta 12), reused 0 (delta 0), pack-reused 159\u001b[K\n",
            "Receiving objects: 100% (195/195), 50.71 KiB | 335.00 KiB/s, done.\n",
            "Resolving deltas: 100% (69/69), done.\n"
          ]
        }
      ],
      "source": [
        "#!git clone https://github.com/Aaron-David-HdM/Applied-Data-Analytics.git"
      ]
    },
    {
      "cell_type": "code",
      "source": [
        "%cd /content/Applied-Data-Analytics/UseCase_1"
      ],
      "metadata": {
        "colab": {
          "base_uri": "https://localhost:8080/"
        },
        "id": "KQ3GBV5dAlXR",
        "outputId": "fe99ee32-1eee-4e2c-9e78-4d3bedc0eb76"
      },
      "execution_count": 2,
      "outputs": [
        {
          "output_type": "stream",
          "name": "stdout",
          "text": [
            "/content/Applied-Data-Analytics/UseCase_1\n"
          ]
        }
      ]
    },
    {
      "cell_type": "code",
      "source": [
        "import pandas as pd\n",
        "import numpy as np\n",
        "import scipy.stats as stats\n",
        "\n",
        "filepath_1 = 'Werbung_A.csv' # Werbungs-Gruppe A\n",
        "filepath_2 = 'Werbung_B.csv' # Werbungs-Gruppe B\n",
        "df_A = pd.read_csv(filepath_1, decimal=',')\n",
        "df_B = pd.read_csv(filepath_2, decimal=',')"
      ],
      "metadata": {
        "id": "C8_kvHcNApqp"
      },
      "execution_count": 35,
      "outputs": []
    },
    {
      "cell_type": "markdown",
      "source": [
        "**Summenbildung aller relevanten Spalten**"
      ],
      "metadata": {
        "id": "7Q5XGWMzFQN0"
      }
    },
    {
      "cell_type": "markdown",
      "source": [
        "Werbung A:"
      ],
      "metadata": {
        "id": "wArWa9EXMJNJ"
      }
    },
    {
      "cell_type": "code",
      "source": [
        "Alle_Nutzer_A = sum(df_A['Alle Nutzer'])\n",
        "Nutzer_18_24_A = sum(df_A['18-24'])\n",
        "Nutzer_25_34_A = sum(df_A['25-34'])\n",
        "Zielgruppenbesucherzahlen_A = Nutzer_18_24_A + Nutzer_25_34_A"
      ],
      "metadata": {
        "id": "h5uDvJ4HEuD9"
      },
      "execution_count": 40,
      "outputs": []
    },
    {
      "cell_type": "markdown",
      "source": [
        "Werbung B:"
      ],
      "metadata": {
        "id": "SOhyfRL-MPWy"
      }
    },
    {
      "cell_type": "code",
      "source": [
        "Alle_Nutzer_B = sum(df_B['Alle Nutzer'])\n",
        "Nutzer_18_24_B = sum(df_B['18-24'])\n",
        "Nutzer_25_34_B = sum(df_B['25-34'])\n",
        "Zielgruppenbesucherzahlen_B = Nutzer_18_24_B + Nutzer_25_34_B"
      ],
      "metadata": {
        "id": "UAadhHpwMRLu"
      },
      "execution_count": null,
      "outputs": []
    },
    {
      "cell_type": "markdown",
      "source": [
        "**Berechnen der Baseline conversion rate**"
      ],
      "metadata": {
        "id": "B6VbWyuIGUGb"
      }
    },
    {
      "cell_type": "code",
      "source": [
        "Baseline_Conversion_Rate = round((Zielgruppenbesucherzahlen_A / Alle_Nutzer_A), 3)\n",
        "print(Baseline_Conversion_Rate)"
      ],
      "metadata": {
        "colab": {
          "base_uri": "https://localhost:8080/"
        },
        "id": "PDitJHG7GRXI",
        "outputId": "3dc5a928-35ab-4328-bdcd-8988f766e601"
      },
      "execution_count": 45,
      "outputs": [
        {
          "output_type": "stream",
          "name": "stdout",
          "text": [
            "0.603\n"
          ]
        }
      ]
    },
    {
      "cell_type": "markdown",
      "source": [
        "**Berechnen der Conversion Rate von Werbung B**"
      ],
      "metadata": {
        "id": "ETBP3g0EJ52S"
      }
    },
    {
      "cell_type": "code",
      "source": [
        "Conversion_Rate_B = round((Zielgruppenbesucherzahlen_B / Alle_Nutzer_B), 3)\n",
        "print(Conversion_Rate_B)"
      ],
      "metadata": {
        "colab": {
          "base_uri": "https://localhost:8080/"
        },
        "id": "pEwCDcmQJJGJ",
        "outputId": "3c4c450a-3740-4522-f42f-4f2dd8116a3a"
      },
      "execution_count": 46,
      "outputs": [
        {
          "output_type": "stream",
          "name": "stdout",
          "text": [
            "0.683\n"
          ]
        }
      ]
    },
    {
      "cell_type": "markdown",
      "source": [
        "Die Baseline Conversion Rate unterscheidet sich von der Conversion Rate (Werbung B) um **8%**!"
      ],
      "metadata": {
        "id": "wqLLXOtYOlMA"
      }
    },
    {
      "cell_type": "markdown",
      "source": [
        "**Durchführen des Binomial-Tests**"
      ],
      "metadata": {
        "id": "iuh0Jc5mKB38"
      }
    },
    {
      "cell_type": "code",
      "source": [
        "stats.binom_test(Zielgruppenbesucherzahlen_B, n=Alle_Nutzer_A, p=Baseline_Conversion_Rate, alternative='two-sided') # two-sided greater less"
      ],
      "metadata": {
        "colab": {
          "base_uri": "https://localhost:8080/"
        },
        "id": "aXmYw9qOIzHd",
        "outputId": "167ee2e3-7927-4822-f913-027aadb9ceda"
      },
      "execution_count": 57,
      "outputs": [
        {
          "output_type": "execute_result",
          "data": {
            "text/plain": [
              "5e-324"
            ]
          },
          "metadata": {},
          "execution_count": 57
        }
      ]
    }
  ]
}